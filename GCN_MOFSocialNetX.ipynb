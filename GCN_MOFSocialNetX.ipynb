{
  "nbformat": 4,
  "nbformat_minor": 0,
  "metadata": {
    "colab": {
      "name": "Copy of Untitled8.ipynb",
      "provenance": [],
      "collapsed_sections": []
    },
    "kernelspec": {
      "name": "python3",
      "display_name": "Python 3"
    },
    "language_info": {
      "name": "python"
    }
  },
  "cells": [
    {
      "cell_type": "code",
      "execution_count": null,
      "metadata": {
        "id": "pCjeQr1jSVwr"
      },
      "outputs": [],
      "source": [
        "import networkx as nx\n",
        "import pandas as pd\n",
        "import os\n",
        "from stellargraph import StellarGraph\n",
        "import stellargraph as sg\n",
        "from stellargraph.mapper import GraphSAGENodeGenerator\n",
        "from stellargraph.layer import GraphSAGE\n",
        "\n",
        "from tensorflow.keras import layers, optimizers, losses, metrics, Model\n",
        "from sklearn import preprocessing, feature_extraction, model_selection\n",
        "from stellargraph import datasets\n",
        "from IPython.display import display, HTML\n",
        "import matplotlib.pyplot as plt\n",
        "%matplotlib inline"
      ]
    },
    {
      "cell_type": "code",
      "source": [
        "edges_all=pd.read_csv('/content/drive/MyDrive/MOF/MOFSMILES/List_METAL_2000.csv')\n",
        "nodes_all=pd.read_csv('/content/drive/MyDrive/MOF/MOFSMILES/Features_1800_NOLABEL.csv')\n",
        "  \n",
        "nodes_all1=pd.read_csv('/content/drive/MyDrive/MOF/MOFSMILES/Features_1800.csv')\n",
        "node_subjects=nodes_all1.iloc[:,10]\n",
        "\n",
        "G = nx.Graph()\n",
        "G = StellarGraph(nodes=nodes_all,edges=edges_all)\n",
        "print(G.info())"
      ],
      "metadata": {
        "colab": {
          "base_uri": "https://localhost:8080/"
        },
        "id": "ld-yINzyTR6U",
        "outputId": "06c9eefc-28c7-4db5-9b98-8b8597a41d12"
      },
      "execution_count": null,
      "outputs": [
        {
          "output_type": "stream",
          "name": "stdout",
          "text": [
            "StellarGraph: Undirected multigraph\n",
            " Nodes: 1999, Edges: 20568\n",
            "\n",
            " Node types:\n",
            "  default: [1999]\n",
            "    Features: float32 vector, length 10\n",
            "    Edge types: default-default->default\n",
            "\n",
            " Edge types:\n",
            "    default-default->default: [20568]\n",
            "        Weights: all 1 (default)\n",
            "        Features: none\n"
          ]
        }
      ]
    },
    {
      "cell_type": "code",
      "source": [
        "import csv"
      ],
      "metadata": {
        "id": "567ijuNyWjzd"
      },
      "execution_count": null,
      "outputs": []
    },
    {
      "cell_type": "code",
      "source": [
        "from google.colab import drive\n",
        "drive.mount('/content/drive')"
      ],
      "metadata": {
        "colab": {
          "base_uri": "https://localhost:8080/"
        },
        "id": "vslk80FEa1Wn",
        "outputId": "fdf6af80-580f-4674-aaa9-505ea4077805"
      },
      "execution_count": null,
      "outputs": [
        {
          "output_type": "stream",
          "name": "stdout",
          "text": [
            "Mounted at /content/drive\n"
          ]
        }
      ]
    },
    {
      "cell_type": "code",
      "source": [
        "print(G.info())"
      ],
      "metadata": {
        "colab": {
          "base_uri": "https://localhost:8080/"
        },
        "id": "e52RiFGTTZlV",
        "outputId": "525abc02-d6d3-4033-ccf5-8011684ea44b"
      },
      "execution_count": null,
      "outputs": [
        {
          "output_type": "stream",
          "name": "stdout",
          "text": [
            "StellarGraph: Undirected multigraph\n",
            " Nodes: 1999, Edges: 20568\n",
            "\n",
            " Node types:\n",
            "  default: [1999]\n",
            "    Features: float32 vector, length 10\n",
            "    Edge types: default-default->default\n",
            "\n",
            " Edge types:\n",
            "    default-default->default: [20568]\n",
            "        Weights: all 1 (default)\n",
            "        Features: none\n"
          ]
        }
      ]
    },
    {
      "cell_type": "code",
      "source": [
        "set(node_subjects)"
      ],
      "metadata": {
        "colab": {
          "base_uri": "https://localhost:8080/"
        },
        "id": "8gmnECD9Tc5l",
        "outputId": "639591aa-99bd-42f6-dfcd-42dd5422d52d"
      },
      "execution_count": null,
      "outputs": [
        {
          "output_type": "execute_result",
          "data": {
            "text/plain": [
              "{0, 1, 2, 3}"
            ]
          },
          "metadata": {},
          "execution_count": 6
        }
      ]
    },
    {
      "cell_type": "code",
      "source": [
        "train_subjects, test_subjects = model_selection.train_test_split(\n",
        "    node_subjects, train_size=0.4, test_size=None, random_state=0,stratify=node_subjects\n",
        ")"
      ],
      "metadata": {
        "id": "Lj5a04FvThcE"
      },
      "execution_count": null,
      "outputs": []
    },
    {
      "cell_type": "code",
      "source": [
        "from collections import Counter\n",
        "\n",
        "Counter(train_subjects)"
      ],
      "metadata": {
        "colab": {
          "base_uri": "https://localhost:8080/"
        },
        "id": "DGgcz1dJTksj",
        "outputId": "8ee48b70-9161-47cd-b7f2-ac345a24553a"
      },
      "execution_count": null,
      "outputs": [
        {
          "output_type": "execute_result",
          "data": {
            "text/plain": [
              "Counter({0: 424, 1: 169, 2: 108, 3: 98})"
            ]
          },
          "metadata": {},
          "execution_count": 111
        }
      ]
    },
    {
      "cell_type": "code",
      "source": [
        "target_encoding = preprocessing.LabelBinarizer()\n",
        "\n",
        "train_targets = target_encoding.fit_transform(train_subjects)\n",
        "test_targets = target_encoding.transform(test_subjects)"
      ],
      "metadata": {
        "id": "ZpnenwSUT1oz"
      },
      "execution_count": null,
      "outputs": []
    },
    {
      "cell_type": "code",
      "source": [
        "batch_size = 5\n",
        "num_samples = [10, 5]"
      ],
      "metadata": {
        "id": "Oq20HDseUEUT"
      },
      "execution_count": null,
      "outputs": []
    },
    {
      "cell_type": "code",
      "source": [
        "generator = GraphSAGENodeGenerator(G, batch_size, num_samples)"
      ],
      "metadata": {
        "id": "k9AGh99RUN38"
      },
      "execution_count": null,
      "outputs": []
    },
    {
      "cell_type": "code",
      "source": [
        "train_gen = generator.flow(train_subjects, train_targets, shuffle=True)"
      ],
      "metadata": {
        "id": "EKu5k_OcUQ-M"
      },
      "execution_count": null,
      "outputs": []
    },
    {
      "cell_type": "code",
      "source": [
        "graphsage_model = GraphSAGE(\n",
        "    layer_sizes=[32, 32], generator=generator, bias=True, dropout=0.32,\n",
        ")"
      ],
      "metadata": {
        "id": "E83_Mk9VUTPM"
      },
      "execution_count": null,
      "outputs": []
    },
    {
      "cell_type": "code",
      "source": [
        "x_inp, x_out = graphsage_model.in_out_tensors()\n",
        "prediction = layers.Dense(units=train_targets.shape[1], activation=\"softmax\")(x_out)"
      ],
      "metadata": {
        "id": "yvwDFigeUVw2"
      },
      "execution_count": null,
      "outputs": []
    },
    {
      "cell_type": "code",
      "source": [
        "model = Model(inputs=x_inp, outputs=prediction)\n",
        "model.compile(\n",
        "    optimizer=optimizers.Adam(lr=0.005),\n",
        "    loss=losses.categorical_crossentropy,\n",
        "    metrics=[\"acc\"],\n",
        ")"
      ],
      "metadata": {
        "colab": {
          "base_uri": "https://localhost:8080/"
        },
        "id": "F1xb_5IhUX_M",
        "outputId": "da55eafb-1d5e-46f4-9813-3c9c581ea64f"
      },
      "execution_count": null,
      "outputs": [
        {
          "output_type": "stream",
          "name": "stderr",
          "text": [
            "/usr/local/lib/python3.7/dist-packages/keras/optimizer_v2/adam.py:105: UserWarning: The `lr` argument is deprecated, use `learning_rate` instead.\n",
            "  super(Adam, self).__init__(name, **kwargs)\n"
          ]
        }
      ]
    },
    {
      "cell_type": "code",
      "source": [
        "test_gen = generator.flow(test_subjects, test_targets)"
      ],
      "metadata": {
        "id": "-u0Wd6ZZUbEM"
      },
      "execution_count": null,
      "outputs": []
    },
    {
      "cell_type": "code",
      "source": [
        "history = model.fit(\n",
        "    train_gen, epochs=200, validation_data=test_gen, verbose=2, shuffle=False\n",
        ")"
      ],
      "metadata": {
        "colab": {
          "base_uri": "https://localhost:8080/"
        },
        "id": "i_UILlBKUeL0",
        "outputId": "d28f5945-2abc-43ad-dd6e-8c9763ef5e42"
      },
      "execution_count": null,
      "outputs": [
        {
          "output_type": "stream",
          "name": "stdout",
          "text": [
            "Epoch 1/200\n",
            "160/160 - 3s - loss: 0.3553 - acc: 0.8874 - val_loss: 0.2128 - val_acc: 1.0000 - 3s/epoch - 16ms/step\n",
            "Epoch 2/200\n",
            "160/160 - 2s - loss: 0.3498 - acc: 0.8936 - val_loss: 0.2210 - val_acc: 0.8500 - 2s/epoch - 15ms/step\n",
            "Epoch 3/200\n",
            "160/160 - 2s - loss: 0.3457 - acc: 0.8986 - val_loss: 0.2286 - val_acc: 0.8500 - 2s/epoch - 15ms/step\n",
            "Epoch 4/200\n",
            "160/160 - 4s - loss: 0.3348 - acc: 0.9024 - val_loss: 0.2480 - val_acc: 0.7892 - 4s/epoch - 23ms/step\n",
            "Epoch 5/200\n",
            "160/160 - 2s - loss: 0.3167 - acc: 0.9086 - val_loss: 0.2060 - val_acc: 1.0000 - 2s/epoch - 12ms/step\n",
            "Epoch 6/200\n",
            "160/160 - 2s - loss: 0.3219 - acc: 0.9061 - val_loss: 0.2202 - val_acc: 0.8525 - 2s/epoch - 13ms/step\n",
            "Epoch 7/200\n",
            "160/160 - 2s - loss: 0.3363 - acc: 0.8961 - val_loss: 0.2181 - val_acc: 1.0000 - 2s/epoch - 12ms/step\n",
            "Epoch 8/200\n",
            "160/160 - 2s - loss: 0.3547 - acc: 0.8924 - val_loss: 0.2147 - val_acc: 0.8533 - 2s/epoch - 13ms/step\n",
            "Epoch 9/200\n",
            "160/160 - 2s - loss: 0.3354 - acc: 0.9011 - val_loss: 0.1976 - val_acc: 1.0000 - 2s/epoch - 12ms/step\n",
            "Epoch 10/200\n",
            "160/160 - 2s - loss: 0.3476 - acc: 0.8986 - val_loss: 0.2138 - val_acc: 0.8475 - 2s/epoch - 13ms/step\n",
            "Epoch 11/200\n",
            "160/160 - 2s - loss: 0.3465 - acc: 0.8961 - val_loss: 0.1918 - val_acc: 1.0000 - 2s/epoch - 12ms/step\n",
            "Epoch 12/200\n",
            "160/160 - 2s - loss: 0.3428 - acc: 0.8961 - val_loss: 0.3096 - val_acc: 0.8783 - 2s/epoch - 13ms/step\n",
            "Epoch 13/200\n",
            "160/160 - 2s - loss: 0.2691 - acc: 0.9249 - val_loss: 0.3041 - val_acc: 0.7233 - 2s/epoch - 13ms/step\n",
            "Epoch 14/200\n",
            "160/160 - 2s - loss: 0.3450 - acc: 0.9024 - val_loss: 0.2295 - val_acc: 1.0000 - 2s/epoch - 12ms/step\n",
            "Epoch 15/200\n",
            "160/160 - 2s - loss: 0.3590 - acc: 0.8974 - val_loss: 0.2974 - val_acc: 0.7892 - 2s/epoch - 13ms/step\n",
            "Epoch 16/200\n",
            "160/160 - 2s - loss: 0.3139 - acc: 0.9111 - val_loss: 0.1967 - val_acc: 1.0000 - 2s/epoch - 12ms/step\n",
            "Epoch 17/200\n",
            "160/160 - 2s - loss: 0.3706 - acc: 0.8874 - val_loss: 0.2016 - val_acc: 1.0000 - 2s/epoch - 12ms/step\n",
            "Epoch 18/200\n",
            "160/160 - 2s - loss: 0.3319 - acc: 0.9086 - val_loss: 0.2595 - val_acc: 0.7892 - 2s/epoch - 13ms/step\n",
            "Epoch 19/200\n",
            "160/160 - 2s - loss: 0.3452 - acc: 0.8949 - val_loss: 0.2219 - val_acc: 1.0000 - 2s/epoch - 12ms/step\n",
            "Epoch 20/200\n",
            "160/160 - 2s - loss: 0.3324 - acc: 0.9024 - val_loss: 0.2444 - val_acc: 0.7892 - 2s/epoch - 13ms/step\n",
            "Epoch 21/200\n",
            "160/160 - 2s - loss: 0.3404 - acc: 0.9011 - val_loss: 0.2105 - val_acc: 1.0000 - 2s/epoch - 13ms/step\n",
            "Epoch 22/200\n",
            "160/160 - 2s - loss: 0.3205 - acc: 0.9099 - val_loss: 0.2180 - val_acc: 0.9958 - 2s/epoch - 13ms/step\n",
            "Epoch 23/200\n",
            "160/160 - 2s - loss: 0.2774 - acc: 0.9237 - val_loss: 0.2036 - val_acc: 1.0000 - 2s/epoch - 12ms/step\n",
            "Epoch 24/200\n",
            "160/160 - 2s - loss: 0.3761 - acc: 0.8874 - val_loss: 0.2488 - val_acc: 0.8533 - 2s/epoch - 13ms/step\n",
            "Epoch 25/200\n",
            "160/160 - 2s - loss: 0.3519 - acc: 0.8986 - val_loss: 0.2190 - val_acc: 1.0000 - 2s/epoch - 12ms/step\n",
            "Epoch 26/200\n",
            "160/160 - 2s - loss: 0.3233 - acc: 0.9024 - val_loss: 0.2014 - val_acc: 1.0000 - 2s/epoch - 13ms/step\n",
            "Epoch 27/200\n",
            "160/160 - 2s - loss: 0.3442 - acc: 0.8936 - val_loss: 0.2006 - val_acc: 1.0000 - 2s/epoch - 13ms/step\n",
            "Epoch 28/200\n",
            "160/160 - 2s - loss: 0.3292 - acc: 0.9036 - val_loss: 0.2335 - val_acc: 0.7925 - 2s/epoch - 13ms/step\n",
            "Epoch 29/200\n",
            "160/160 - 2s - loss: 0.3177 - acc: 0.9074 - val_loss: 0.2712 - val_acc: 1.0000 - 2s/epoch - 14ms/step\n",
            "Epoch 30/200\n",
            "160/160 - 2s - loss: 0.3514 - acc: 0.8949 - val_loss: 0.4020 - val_acc: 0.6792 - 2s/epoch - 12ms/step\n",
            "Epoch 31/200\n",
            "160/160 - 2s - loss: 0.3827 - acc: 0.8836 - val_loss: 0.2874 - val_acc: 0.8783 - 2s/epoch - 13ms/step\n",
            "Epoch 32/200\n",
            "160/160 - 2s - loss: 0.3315 - acc: 0.9011 - val_loss: 0.2994 - val_acc: 0.7908 - 2s/epoch - 12ms/step\n",
            "Epoch 33/200\n",
            "160/160 - 2s - loss: 0.3465 - acc: 0.9011 - val_loss: 0.3197 - val_acc: 0.7633 - 2s/epoch - 13ms/step\n",
            "Epoch 34/200\n",
            "160/160 - 2s - loss: 0.3888 - acc: 0.8886 - val_loss: 0.2691 - val_acc: 0.7967 - 2s/epoch - 12ms/step\n",
            "Epoch 35/200\n",
            "160/160 - 2s - loss: 0.3719 - acc: 0.8924 - val_loss: 0.2625 - val_acc: 0.8017 - 2s/epoch - 12ms/step\n",
            "Epoch 36/200\n",
            "160/160 - 2s - loss: 0.3270 - acc: 0.9074 - val_loss: 0.3009 - val_acc: 0.8142 - 2s/epoch - 13ms/step\n",
            "Epoch 37/200\n",
            "160/160 - 2s - loss: 0.3127 - acc: 0.9124 - val_loss: 0.3129 - val_acc: 0.8783 - 2s/epoch - 13ms/step\n",
            "Epoch 38/200\n",
            "160/160 - 2s - loss: 0.3967 - acc: 0.8798 - val_loss: 0.2778 - val_acc: 1.0000 - 2s/epoch - 12ms/step\n",
            "Epoch 39/200\n",
            "160/160 - 2s - loss: 0.3937 - acc: 0.8773 - val_loss: 0.3218 - val_acc: 0.8783 - 2s/epoch - 12ms/step\n",
            "Epoch 40/200\n",
            "160/160 - 2s - loss: 0.3203 - acc: 0.9124 - val_loss: 0.2001 - val_acc: 1.0000 - 2s/epoch - 13ms/step\n",
            "Epoch 41/200\n",
            "160/160 - 2s - loss: 0.3727 - acc: 0.8924 - val_loss: 0.2229 - val_acc: 0.9983 - 2s/epoch - 12ms/step\n",
            "Epoch 42/200\n",
            "160/160 - 2s - loss: 0.3224 - acc: 0.9049 - val_loss: 0.2050 - val_acc: 1.0000 - 2s/epoch - 12ms/step\n",
            "Epoch 43/200\n",
            "160/160 - 2s - loss: 0.3333 - acc: 0.9049 - val_loss: 0.1931 - val_acc: 1.0000 - 2s/epoch - 12ms/step\n",
            "Epoch 44/200\n",
            "160/160 - 2s - loss: 0.3552 - acc: 0.8986 - val_loss: 0.2106 - val_acc: 1.0000 - 2s/epoch - 12ms/step\n",
            "Epoch 45/200\n",
            "160/160 - 2s - loss: 0.3728 - acc: 0.8886 - val_loss: 0.2082 - val_acc: 1.0000 - 2s/epoch - 13ms/step\n",
            "Epoch 46/200\n",
            "160/160 - 2s - loss: 0.3447 - acc: 0.9011 - val_loss: 0.2473 - val_acc: 0.7892 - 2s/epoch - 13ms/step\n",
            "Epoch 47/200\n",
            "160/160 - 2s - loss: 0.3500 - acc: 0.8974 - val_loss: 0.2290 - val_acc: 0.7908 - 2s/epoch - 12ms/step\n",
            "Epoch 48/200\n",
            "160/160 - 2s - loss: 0.3196 - acc: 0.9099 - val_loss: 0.2282 - val_acc: 0.7975 - 2s/epoch - 12ms/step\n",
            "Epoch 49/200\n",
            "160/160 - 2s - loss: 0.3732 - acc: 0.8911 - val_loss: 0.2207 - val_acc: 1.0000 - 2s/epoch - 13ms/step\n",
            "Epoch 50/200\n",
            "160/160 - 2s - loss: 0.3493 - acc: 0.9011 - val_loss: 0.2154 - val_acc: 1.0000 - 2s/epoch - 13ms/step\n",
            "Epoch 51/200\n",
            "160/160 - 2s - loss: 0.2901 - acc: 0.9174 - val_loss: 0.1905 - val_acc: 1.0000 - 2s/epoch - 13ms/step\n",
            "Epoch 52/200\n",
            "160/160 - 2s - loss: 0.3420 - acc: 0.8986 - val_loss: 0.2065 - val_acc: 1.0000 - 2s/epoch - 13ms/step\n",
            "Epoch 53/200\n",
            "160/160 - 2s - loss: 0.3675 - acc: 0.8836 - val_loss: 0.2158 - val_acc: 1.0000 - 2s/epoch - 12ms/step\n",
            "Epoch 54/200\n",
            "160/160 - 2s - loss: 0.3504 - acc: 0.9024 - val_loss: 0.1959 - val_acc: 1.0000 - 2s/epoch - 12ms/step\n",
            "Epoch 55/200\n",
            "160/160 - 2s - loss: 0.3527 - acc: 0.8911 - val_loss: 0.2234 - val_acc: 0.7992 - 2s/epoch - 13ms/step\n",
            "Epoch 56/200\n",
            "160/160 - 2s - loss: 0.3465 - acc: 0.8961 - val_loss: 0.2293 - val_acc: 0.8492 - 2s/epoch - 13ms/step\n",
            "Epoch 57/200\n",
            "160/160 - 2s - loss: 0.2798 - acc: 0.9199 - val_loss: 0.1949 - val_acc: 1.0000 - 2s/epoch - 13ms/step\n",
            "Epoch 58/200\n",
            "160/160 - 2s - loss: 0.3665 - acc: 0.8936 - val_loss: 0.1992 - val_acc: 1.0000 - 2s/epoch - 12ms/step\n",
            "Epoch 59/200\n",
            "160/160 - 2s - loss: 0.3547 - acc: 0.8924 - val_loss: 0.2367 - val_acc: 0.7900 - 2s/epoch - 12ms/step\n",
            "Epoch 60/200\n",
            "160/160 - 2s - loss: 0.3640 - acc: 0.8961 - val_loss: 0.2093 - val_acc: 1.0000 - 2s/epoch - 12ms/step\n",
            "Epoch 61/200\n",
            "160/160 - 2s - loss: 0.3184 - acc: 0.9061 - val_loss: 0.2215 - val_acc: 0.8208 - 2s/epoch - 13ms/step\n",
            "Epoch 62/200\n",
            "160/160 - 2s - loss: 0.3311 - acc: 0.9061 - val_loss: 0.2081 - val_acc: 1.0000 - 2s/epoch - 13ms/step\n",
            "Epoch 63/200\n",
            "160/160 - 2s - loss: 0.3324 - acc: 0.8999 - val_loss: 0.2011 - val_acc: 1.0000 - 2s/epoch - 12ms/step\n",
            "Epoch 64/200\n",
            "160/160 - 2s - loss: 0.3798 - acc: 0.8861 - val_loss: 0.2371 - val_acc: 0.7958 - 2s/epoch - 13ms/step\n",
            "Epoch 65/200\n",
            "160/160 - 2s - loss: 0.3258 - acc: 0.9074 - val_loss: 0.2375 - val_acc: 0.7900 - 2s/epoch - 12ms/step\n",
            "Epoch 66/200\n",
            "160/160 - 2s - loss: 0.3181 - acc: 0.9074 - val_loss: 0.2214 - val_acc: 0.7983 - 2s/epoch - 13ms/step\n",
            "Epoch 67/200\n",
            "160/160 - 2s - loss: 0.2967 - acc: 0.9161 - val_loss: 0.2275 - val_acc: 0.7983 - 2s/epoch - 13ms/step\n",
            "Epoch 68/200\n",
            "160/160 - 2s - loss: 0.3901 - acc: 0.8849 - val_loss: 0.2353 - val_acc: 0.7958 - 2s/epoch - 12ms/step\n",
            "Epoch 69/200\n",
            "160/160 - 2s - loss: 0.3569 - acc: 0.8949 - val_loss: 0.2203 - val_acc: 0.8583 - 2s/epoch - 12ms/step\n",
            "Epoch 70/200\n",
            "160/160 - 2s - loss: 0.3691 - acc: 0.8911 - val_loss: 0.2150 - val_acc: 0.8992 - 2s/epoch - 12ms/step\n",
            "Epoch 71/200\n",
            "160/160 - 2s - loss: 0.3890 - acc: 0.8811 - val_loss: 0.2207 - val_acc: 1.0000 - 2s/epoch - 12ms/step\n",
            "Epoch 72/200\n",
            "160/160 - 2s - loss: 0.3504 - acc: 0.8986 - val_loss: 0.2069 - val_acc: 0.8625 - 2s/epoch - 12ms/step\n",
            "Epoch 73/200\n",
            "160/160 - 2s - loss: 0.3571 - acc: 0.8936 - val_loss: 0.2265 - val_acc: 0.8517 - 2s/epoch - 12ms/step\n",
            "Epoch 74/200\n",
            "160/160 - 2s - loss: 0.3801 - acc: 0.8836 - val_loss: 0.2384 - val_acc: 0.8017 - 2s/epoch - 13ms/step\n",
            "Epoch 75/200\n",
            "160/160 - 2s - loss: 0.3398 - acc: 0.8974 - val_loss: 0.2105 - val_acc: 1.0000 - 2s/epoch - 12ms/step\n",
            "Epoch 76/200\n",
            "160/160 - 2s - loss: 0.3313 - acc: 0.9074 - val_loss: 0.2128 - val_acc: 0.8483 - 2s/epoch - 13ms/step\n",
            "Epoch 77/200\n",
            "160/160 - 2s - loss: 0.3546 - acc: 0.8986 - val_loss: 0.2560 - val_acc: 0.7900 - 2s/epoch - 13ms/step\n",
            "Epoch 78/200\n",
            "160/160 - 2s - loss: 0.3373 - acc: 0.9024 - val_loss: 0.1999 - val_acc: 1.0000 - 2s/epoch - 13ms/step\n",
            "Epoch 79/200\n",
            "160/160 - 2s - loss: 0.3358 - acc: 0.8986 - val_loss: 0.1984 - val_acc: 1.0000 - 2s/epoch - 13ms/step\n",
            "Epoch 80/200\n",
            "160/160 - 2s - loss: 0.4101 - acc: 0.8886 - val_loss: 0.2788 - val_acc: 0.7900 - 2s/epoch - 13ms/step\n",
            "Epoch 81/200\n",
            "160/160 - 2s - loss: 0.3689 - acc: 0.8874 - val_loss: 0.2339 - val_acc: 1.0000 - 2s/epoch - 13ms/step\n",
            "Epoch 82/200\n",
            "160/160 - 2s - loss: 0.3489 - acc: 0.8911 - val_loss: 0.2541 - val_acc: 0.8425 - 2s/epoch - 14ms/step\n",
            "Epoch 83/200\n",
            "160/160 - 2s - loss: 0.3225 - acc: 0.9024 - val_loss: 0.2840 - val_acc: 0.8550 - 2s/epoch - 13ms/step\n",
            "Epoch 84/200\n",
            "160/160 - 2s - loss: 0.3219 - acc: 0.9049 - val_loss: 0.2543 - val_acc: 1.0000 - 2s/epoch - 13ms/step\n",
            "Epoch 85/200\n",
            "160/160 - 2s - loss: 0.3657 - acc: 0.8836 - val_loss: 0.2797 - val_acc: 1.0000 - 2s/epoch - 13ms/step\n",
            "Epoch 86/200\n",
            "160/160 - 2s - loss: 0.3988 - acc: 0.8786 - val_loss: 0.2206 - val_acc: 1.0000 - 2s/epoch - 12ms/step\n",
            "Epoch 87/200\n",
            "160/160 - 2s - loss: 0.3495 - acc: 0.8986 - val_loss: 0.2905 - val_acc: 0.7908 - 2s/epoch - 12ms/step\n",
            "Epoch 88/200\n",
            "160/160 - 2s - loss: 0.3334 - acc: 0.9049 - val_loss: 0.2532 - val_acc: 1.0000 - 2s/epoch - 13ms/step\n",
            "Epoch 89/200\n",
            "160/160 - 2s - loss: 0.3335 - acc: 0.9061 - val_loss: 0.2699 - val_acc: 0.7983 - 2s/epoch - 13ms/step\n",
            "Epoch 90/200\n",
            "160/160 - 2s - loss: 0.3156 - acc: 0.9049 - val_loss: 0.2375 - val_acc: 0.8000 - 2s/epoch - 12ms/step\n",
            "Epoch 91/200\n",
            "160/160 - 2s - loss: 0.3435 - acc: 0.8974 - val_loss: 0.2183 - val_acc: 1.0000 - 2s/epoch - 13ms/step\n",
            "Epoch 92/200\n",
            "160/160 - 2s - loss: 0.2969 - acc: 0.9111 - val_loss: 0.2056 - val_acc: 1.0000 - 2s/epoch - 13ms/step\n",
            "Epoch 93/200\n",
            "160/160 - 2s - loss: 0.3511 - acc: 0.8924 - val_loss: 0.1894 - val_acc: 1.0000 - 2s/epoch - 12ms/step\n",
            "Epoch 94/200\n",
            "160/160 - 2s - loss: 0.3569 - acc: 0.8949 - val_loss: 0.2197 - val_acc: 1.0000 - 2s/epoch - 13ms/step\n",
            "Epoch 95/200\n",
            "160/160 - 2s - loss: 0.3227 - acc: 0.9074 - val_loss: 0.2331 - val_acc: 0.7908 - 2s/epoch - 13ms/step\n",
            "Epoch 96/200\n",
            "160/160 - 2s - loss: 0.3640 - acc: 0.8961 - val_loss: 0.2103 - val_acc: 1.0000 - 2s/epoch - 12ms/step\n",
            "Epoch 97/200\n",
            "160/160 - 2s - loss: 0.3450 - acc: 0.9024 - val_loss: 0.2257 - val_acc: 1.0000 - 2s/epoch - 12ms/step\n",
            "Epoch 98/200\n",
            "160/160 - 2s - loss: 0.3533 - acc: 0.8899 - val_loss: 0.2420 - val_acc: 0.7892 - 2s/epoch - 12ms/step\n",
            "Epoch 99/200\n",
            "160/160 - 2s - loss: 0.3614 - acc: 0.8924 - val_loss: 0.2452 - val_acc: 0.7900 - 2s/epoch - 13ms/step\n",
            "Epoch 100/200\n",
            "160/160 - 2s - loss: 0.3322 - acc: 0.9086 - val_loss: 0.2177 - val_acc: 1.0000 - 2s/epoch - 12ms/step\n",
            "Epoch 101/200\n",
            "160/160 - 2s - loss: 0.3643 - acc: 0.8886 - val_loss: 0.2136 - val_acc: 1.0000 - 2s/epoch - 12ms/step\n",
            "Epoch 102/200\n",
            "160/160 - 2s - loss: 0.3005 - acc: 0.9174 - val_loss: 0.2587 - val_acc: 0.7892 - 2s/epoch - 13ms/step\n",
            "Epoch 103/200\n",
            "160/160 - 2s - loss: 0.3251 - acc: 0.9086 - val_loss: 0.2521 - val_acc: 0.7908 - 2s/epoch - 12ms/step\n",
            "Epoch 104/200\n",
            "160/160 - 2s - loss: 0.3160 - acc: 0.9099 - val_loss: 0.2356 - val_acc: 0.7892 - 2s/epoch - 13ms/step\n",
            "Epoch 105/200\n",
            "160/160 - 2s - loss: 0.3413 - acc: 0.8999 - val_loss: 0.2329 - val_acc: 0.7992 - 2s/epoch - 13ms/step\n",
            "Epoch 106/200\n",
            "160/160 - 2s - loss: 0.3280 - acc: 0.9061 - val_loss: 0.2227 - val_acc: 0.8525 - 2s/epoch - 12ms/step\n",
            "Epoch 107/200\n",
            "160/160 - 2s - loss: 0.3074 - acc: 0.9174 - val_loss: 0.1869 - val_acc: 1.0000 - 2s/epoch - 13ms/step\n",
            "Epoch 108/200\n",
            "160/160 - 2s - loss: 0.3849 - acc: 0.8773 - val_loss: 0.2195 - val_acc: 1.0000 - 2s/epoch - 12ms/step\n",
            "Epoch 109/200\n",
            "160/160 - 2s - loss: 0.3438 - acc: 0.8999 - val_loss: 0.2636 - val_acc: 0.7892 - 2s/epoch - 13ms/step\n",
            "Epoch 110/200\n",
            "160/160 - 2s - loss: 0.3245 - acc: 0.9099 - val_loss: 0.2030 - val_acc: 1.0000 - 2s/epoch - 13ms/step\n",
            "Epoch 111/200\n",
            "160/160 - 2s - loss: 0.3333 - acc: 0.8999 - val_loss: 0.2042 - val_acc: 1.0000 - 2s/epoch - 13ms/step\n",
            "Epoch 112/200\n",
            "160/160 - 2s - loss: 0.3432 - acc: 0.8911 - val_loss: 0.2162 - val_acc: 1.0000 - 2s/epoch - 12ms/step\n",
            "Epoch 113/200\n",
            "160/160 - 2s - loss: 0.3252 - acc: 0.9111 - val_loss: 0.2254 - val_acc: 0.7958 - 2s/epoch - 12ms/step\n",
            "Epoch 114/200\n",
            "160/160 - 2s - loss: 0.3605 - acc: 0.8899 - val_loss: 0.2080 - val_acc: 1.0000 - 2s/epoch - 13ms/step\n",
            "Epoch 115/200\n",
            "160/160 - 2s - loss: 0.3550 - acc: 0.8999 - val_loss: 0.2330 - val_acc: 0.7917 - 2s/epoch - 12ms/step\n",
            "Epoch 116/200\n",
            "160/160 - 2s - loss: 0.3324 - acc: 0.9074 - val_loss: 0.2223 - val_acc: 0.8467 - 2s/epoch - 12ms/step\n",
            "Epoch 117/200\n",
            "160/160 - 2s - loss: 0.3577 - acc: 0.8949 - val_loss: 0.2040 - val_acc: 1.0000 - 2s/epoch - 13ms/step\n",
            "Epoch 118/200\n",
            "160/160 - 2s - loss: 0.3325 - acc: 0.9099 - val_loss: 0.2398 - val_acc: 0.7967 - 2s/epoch - 13ms/step\n",
            "Epoch 119/200\n",
            "160/160 - 2s - loss: 0.3562 - acc: 0.8911 - val_loss: 0.2083 - val_acc: 1.0000 - 2s/epoch - 13ms/step\n",
            "Epoch 120/200\n",
            "160/160 - 2s - loss: 0.2983 - acc: 0.9224 - val_loss: 0.2286 - val_acc: 0.8350 - 2s/epoch - 12ms/step\n",
            "Epoch 121/200\n",
            "160/160 - 2s - loss: 0.3393 - acc: 0.9024 - val_loss: 0.2082 - val_acc: 1.0000 - 2s/epoch - 12ms/step\n",
            "Epoch 122/200\n",
            "160/160 - 2s - loss: 0.3074 - acc: 0.9086 - val_loss: 0.2058 - val_acc: 1.0000 - 2s/epoch - 12ms/step\n",
            "Epoch 123/200\n",
            "160/160 - 2s - loss: 0.3282 - acc: 0.9011 - val_loss: 0.2067 - val_acc: 0.8542 - 2s/epoch - 13ms/step\n",
            "Epoch 124/200\n",
            "160/160 - 2s - loss: 0.3621 - acc: 0.8936 - val_loss: 0.1942 - val_acc: 1.0000 - 2s/epoch - 12ms/step\n",
            "Epoch 125/200\n",
            "160/160 - 2s - loss: 0.3435 - acc: 0.8974 - val_loss: 0.2298 - val_acc: 0.8433 - 2s/epoch - 13ms/step\n",
            "Epoch 126/200\n",
            "160/160 - 2s - loss: 0.3160 - acc: 0.9074 - val_loss: 0.2077 - val_acc: 0.8492 - 2s/epoch - 13ms/step\n",
            "Epoch 127/200\n",
            "160/160 - 2s - loss: 0.3301 - acc: 0.9061 - val_loss: 0.2383 - val_acc: 0.7900 - 2s/epoch - 12ms/step\n",
            "Epoch 128/200\n",
            "160/160 - 2s - loss: 0.3693 - acc: 0.8924 - val_loss: 0.2359 - val_acc: 0.7942 - 2s/epoch - 12ms/step\n",
            "Epoch 129/200\n",
            "160/160 - 2s - loss: 0.3405 - acc: 0.8961 - val_loss: 0.2434 - val_acc: 1.0000 - 2s/epoch - 12ms/step\n",
            "Epoch 130/200\n",
            "160/160 - 2s - loss: 0.4127 - acc: 0.8648 - val_loss: 0.2092 - val_acc: 1.0000 - 2s/epoch - 12ms/step\n",
            "Epoch 131/200\n",
            "160/160 - 2s - loss: 0.3118 - acc: 0.9074 - val_loss: 0.2052 - val_acc: 1.0000 - 2s/epoch - 12ms/step\n",
            "Epoch 132/200\n",
            "160/160 - 2s - loss: 0.3168 - acc: 0.9086 - val_loss: 0.2128 - val_acc: 0.8542 - 2s/epoch - 13ms/step\n",
            "Epoch 133/200\n",
            "160/160 - 2s - loss: 0.3857 - acc: 0.8811 - val_loss: 0.2224 - val_acc: 1.0000 - 2s/epoch - 12ms/step\n",
            "Epoch 134/200\n",
            "160/160 - 2s - loss: 0.3543 - acc: 0.8936 - val_loss: 0.1969 - val_acc: 1.0000 - 2s/epoch - 13ms/step\n",
            "Epoch 135/200\n",
            "160/160 - 2s - loss: 0.3040 - acc: 0.9136 - val_loss: 0.1964 - val_acc: 1.0000 - 2s/epoch - 14ms/step\n",
            "Epoch 136/200\n",
            "160/160 - 2s - loss: 0.3339 - acc: 0.9024 - val_loss: 0.2707 - val_acc: 1.0000 - 2s/epoch - 14ms/step\n",
            "Epoch 137/200\n",
            "160/160 - 2s - loss: 0.3605 - acc: 0.8924 - val_loss: 0.2431 - val_acc: 0.7892 - 2s/epoch - 12ms/step\n",
            "Epoch 138/200\n",
            "160/160 - 2s - loss: 0.3709 - acc: 0.8874 - val_loss: 0.2305 - val_acc: 0.8558 - 2s/epoch - 13ms/step\n",
            "Epoch 139/200\n",
            "160/160 - 2s - loss: 0.3227 - acc: 0.9024 - val_loss: 0.2632 - val_acc: 1.0000 - 2s/epoch - 13ms/step\n",
            "Epoch 140/200\n",
            "160/160 - 2s - loss: 0.3632 - acc: 0.9086 - val_loss: 0.2702 - val_acc: 0.8458 - 2s/epoch - 13ms/step\n",
            "Epoch 141/200\n",
            "160/160 - 2s - loss: 0.3092 - acc: 0.9099 - val_loss: 0.2346 - val_acc: 0.7950 - 2s/epoch - 13ms/step\n",
            "Epoch 142/200\n",
            "160/160 - 2s - loss: 0.3627 - acc: 0.8899 - val_loss: 0.2714 - val_acc: 1.0000 - 2s/epoch - 12ms/step\n",
            "Epoch 143/200\n",
            "160/160 - 2s - loss: 0.4150 - acc: 0.8798 - val_loss: 0.2583 - val_acc: 1.0000 - 2s/epoch - 12ms/step\n",
            "Epoch 144/200\n",
            "160/160 - 2s - loss: 0.3675 - acc: 0.8924 - val_loss: 0.2146 - val_acc: 1.0000 - 2s/epoch - 13ms/step\n",
            "Epoch 145/200\n",
            "160/160 - 2s - loss: 0.3451 - acc: 0.9036 - val_loss: 0.2744 - val_acc: 1.0000 - 2s/epoch - 13ms/step\n",
            "Epoch 146/200\n",
            "160/160 - 2s - loss: 0.3232 - acc: 0.9086 - val_loss: 0.2249 - val_acc: 0.7992 - 2s/epoch - 13ms/step\n",
            "Epoch 147/200\n",
            "160/160 - 2s - loss: 0.3327 - acc: 0.9036 - val_loss: 0.2589 - val_acc: 1.0000 - 2s/epoch - 13ms/step\n",
            "Epoch 148/200\n",
            "160/160 - 2s - loss: 0.3858 - acc: 0.8836 - val_loss: 0.2632 - val_acc: 1.0000 - 2s/epoch - 12ms/step\n",
            "Epoch 149/200\n",
            "160/160 - 2s - loss: 0.3041 - acc: 0.9111 - val_loss: 0.3382 - val_acc: 0.6683 - 2s/epoch - 13ms/step\n",
            "Epoch 150/200\n",
            "160/160 - 2s - loss: 0.3326 - acc: 0.9036 - val_loss: 0.2074 - val_acc: 1.0000 - 2s/epoch - 13ms/step\n",
            "Epoch 151/200\n",
            "160/160 - 2s - loss: 0.3955 - acc: 0.8723 - val_loss: 0.2487 - val_acc: 1.0000 - 2s/epoch - 11ms/step\n",
            "Epoch 152/200\n",
            "160/160 - 2s - loss: 0.3632 - acc: 0.8911 - val_loss: 0.2458 - val_acc: 1.0000 - 2s/epoch - 13ms/step\n",
            "Epoch 153/200\n",
            "160/160 - 2s - loss: 0.3714 - acc: 0.8886 - val_loss: 0.2468 - val_acc: 1.0000 - 2s/epoch - 12ms/step\n",
            "Epoch 154/200\n",
            "160/160 - 2s - loss: 0.3199 - acc: 0.9049 - val_loss: 0.2688 - val_acc: 1.0000 - 2s/epoch - 13ms/step\n",
            "Epoch 155/200\n",
            "160/160 - 2s - loss: 0.3240 - acc: 0.9024 - val_loss: 0.2342 - val_acc: 0.8300 - 2s/epoch - 12ms/step\n",
            "Epoch 156/200\n",
            "160/160 - 2s - loss: 0.3321 - acc: 0.8974 - val_loss: 0.2642 - val_acc: 0.7900 - 2s/epoch - 13ms/step\n",
            "Epoch 157/200\n",
            "160/160 - 2s - loss: 0.3182 - acc: 0.9074 - val_loss: 0.2426 - val_acc: 0.7925 - 2s/epoch - 13ms/step\n",
            "Epoch 158/200\n",
            "160/160 - 2s - loss: 0.3294 - acc: 0.9011 - val_loss: 0.2792 - val_acc: 0.7975 - 2s/epoch - 12ms/step\n",
            "Epoch 159/200\n",
            "160/160 - 2s - loss: 0.3212 - acc: 0.9086 - val_loss: 0.2754 - val_acc: 0.8508 - 2s/epoch - 12ms/step\n",
            "Epoch 160/200\n",
            "160/160 - 2s - loss: 0.3251 - acc: 0.9086 - val_loss: 0.2562 - val_acc: 0.8450 - 2s/epoch - 13ms/step\n",
            "Epoch 161/200\n",
            "160/160 - 2s - loss: 0.3317 - acc: 0.9049 - val_loss: 0.2133 - val_acc: 1.0000 - 2s/epoch - 12ms/step\n",
            "Epoch 162/200\n",
            "160/160 - 2s - loss: 0.3592 - acc: 0.8911 - val_loss: 0.2049 - val_acc: 1.0000 - 2s/epoch - 12ms/step\n",
            "Epoch 163/200\n",
            "160/160 - 2s - loss: 0.3397 - acc: 0.8949 - val_loss: 0.2135 - val_acc: 1.0000 - 2s/epoch - 12ms/step\n",
            "Epoch 164/200\n",
            "160/160 - 2s - loss: 0.3290 - acc: 0.9049 - val_loss: 1.6257 - val_acc: 0.6692 - 2s/epoch - 13ms/step\n",
            "Epoch 165/200\n",
            "160/160 - 2s - loss: 0.3669 - acc: 0.8874 - val_loss: 0.2042 - val_acc: 1.0000 - 2s/epoch - 12ms/step\n",
            "Epoch 166/200\n",
            "160/160 - 2s - loss: 0.3299 - acc: 0.9061 - val_loss: 0.2402 - val_acc: 0.8500 - 2s/epoch - 12ms/step\n",
            "Epoch 167/200\n",
            "160/160 - 2s - loss: 0.3125 - acc: 0.9111 - val_loss: 0.2212 - val_acc: 0.8008 - 2s/epoch - 13ms/step\n",
            "Epoch 168/200\n",
            "160/160 - 2s - loss: 0.3450 - acc: 0.8999 - val_loss: 0.2206 - val_acc: 0.8458 - 2s/epoch - 13ms/step\n",
            "Epoch 169/200\n",
            "160/160 - 2s - loss: 0.3239 - acc: 0.9061 - val_loss: 0.2324 - val_acc: 0.8008 - 2s/epoch - 12ms/step\n",
            "Epoch 170/200\n",
            "160/160 - 2s - loss: 0.3310 - acc: 0.9061 - val_loss: 0.2196 - val_acc: 0.8500 - 2s/epoch - 12ms/step\n",
            "Epoch 171/200\n",
            "160/160 - 2s - loss: 0.3633 - acc: 0.8886 - val_loss: 0.2181 - val_acc: 1.0000 - 2s/epoch - 12ms/step\n",
            "Epoch 172/200\n",
            "160/160 - 2s - loss: 0.3890 - acc: 0.8798 - val_loss: 0.2244 - val_acc: 1.0000 - 2s/epoch - 13ms/step\n",
            "Epoch 173/200\n",
            "160/160 - 2s - loss: 0.3364 - acc: 0.9049 - val_loss: 0.2037 - val_acc: 1.0000 - 2s/epoch - 12ms/step\n",
            "Epoch 174/200\n",
            "160/160 - 2s - loss: 0.3568 - acc: 0.8949 - val_loss: 0.2133 - val_acc: 1.0000 - 2s/epoch - 12ms/step\n",
            "Epoch 175/200\n",
            "160/160 - 2s - loss: 0.3097 - acc: 0.9111 - val_loss: 0.2369 - val_acc: 0.8000 - 2s/epoch - 13ms/step\n",
            "Epoch 176/200\n",
            "160/160 - 2s - loss: 0.3311 - acc: 0.8936 - val_loss: 0.2150 - val_acc: 0.8575 - 2s/epoch - 13ms/step\n",
            "Epoch 177/200\n",
            "160/160 - 2s - loss: 0.3809 - acc: 0.8924 - val_loss: 0.2399 - val_acc: 0.8583 - 2s/epoch - 13ms/step\n",
            "Epoch 178/200\n",
            "160/160 - 2s - loss: 0.3354 - acc: 0.9036 - val_loss: 0.2550 - val_acc: 1.0000 - 2s/epoch - 13ms/step\n",
            "Epoch 179/200\n",
            "160/160 - 2s - loss: 0.3748 - acc: 0.8824 - val_loss: 0.2793 - val_acc: 1.0000 - 2s/epoch - 11ms/step\n",
            "Epoch 180/200\n",
            "160/160 - 2s - loss: 0.3517 - acc: 0.8961 - val_loss: 0.2918 - val_acc: 0.8542 - 2s/epoch - 12ms/step\n",
            "Epoch 181/200\n",
            "160/160 - 2s - loss: 0.3608 - acc: 0.8886 - val_loss: 0.2483 - val_acc: 0.7900 - 2s/epoch - 12ms/step\n",
            "Epoch 182/200\n",
            "160/160 - 2s - loss: 0.2868 - acc: 0.9174 - val_loss: 0.2407 - val_acc: 1.0000 - 2s/epoch - 12ms/step\n",
            "Epoch 183/200\n",
            "160/160 - 2s - loss: 0.3988 - acc: 0.8761 - val_loss: 0.2316 - val_acc: 1.0000 - 2s/epoch - 12ms/step\n",
            "Epoch 184/200\n",
            "160/160 - 2s - loss: 0.2986 - acc: 0.9111 - val_loss: 0.2452 - val_acc: 0.7958 - 2s/epoch - 12ms/step\n",
            "Epoch 185/200\n",
            "160/160 - 2s - loss: 0.3445 - acc: 0.8999 - val_loss: 0.2491 - val_acc: 0.8517 - 2s/epoch - 12ms/step\n",
            "Epoch 186/200\n",
            "160/160 - 2s - loss: 0.3651 - acc: 0.8936 - val_loss: 0.2215 - val_acc: 0.8500 - 2s/epoch - 12ms/step\n",
            "Epoch 187/200\n",
            "160/160 - 2s - loss: 0.3617 - acc: 0.8949 - val_loss: 0.1943 - val_acc: 1.0000 - 2s/epoch - 13ms/step\n",
            "Epoch 188/200\n",
            "160/160 - 2s - loss: 0.3876 - acc: 0.8811 - val_loss: 0.2176 - val_acc: 1.0000 - 2s/epoch - 14ms/step\n",
            "Epoch 189/200\n",
            "160/160 - 2s - loss: 0.3639 - acc: 0.8936 - val_loss: 0.2313 - val_acc: 1.0000 - 2s/epoch - 13ms/step\n",
            "Epoch 190/200\n",
            "160/160 - 2s - loss: 0.3650 - acc: 0.8861 - val_loss: 0.2579 - val_acc: 0.8492 - 2s/epoch - 13ms/step\n",
            "Epoch 191/200\n",
            "160/160 - 2s - loss: 0.3207 - acc: 0.9099 - val_loss: 0.2650 - val_acc: 0.7992 - 2s/epoch - 12ms/step\n",
            "Epoch 192/200\n",
            "160/160 - 2s - loss: 0.3195 - acc: 0.9036 - val_loss: 0.1926 - val_acc: 1.0000 - 2s/epoch - 13ms/step\n",
            "Epoch 193/200\n",
            "160/160 - 2s - loss: 0.3340 - acc: 0.8974 - val_loss: 0.1927 - val_acc: 1.0000 - 2s/epoch - 12ms/step\n",
            "Epoch 194/200\n",
            "160/160 - 2s - loss: 0.3259 - acc: 0.9036 - val_loss: 0.2005 - val_acc: 0.9983 - 2s/epoch - 13ms/step\n",
            "Epoch 195/200\n",
            "160/160 - 2s - loss: 0.3120 - acc: 0.9099 - val_loss: 0.2077 - val_acc: 0.8525 - 2s/epoch - 12ms/step\n",
            "Epoch 196/200\n",
            "160/160 - 2s - loss: 0.3476 - acc: 0.8986 - val_loss: 0.2172 - val_acc: 0.8542 - 2s/epoch - 12ms/step\n",
            "Epoch 197/200\n",
            "160/160 - 2s - loss: 0.3636 - acc: 0.8899 - val_loss: 0.1981 - val_acc: 1.0000 - 2s/epoch - 12ms/step\n",
            "Epoch 198/200\n",
            "160/160 - 2s - loss: 0.3562 - acc: 0.8899 - val_loss: 0.2160 - val_acc: 0.9925 - 2s/epoch - 12ms/step\n",
            "Epoch 199/200\n",
            "160/160 - 2s - loss: 0.3781 - acc: 0.8899 - val_loss: 0.2637 - val_acc: 1.0000 - 2s/epoch - 13ms/step\n",
            "Epoch 200/200\n",
            "160/160 - 2s - loss: 0.3075 - acc: 0.9099 - val_loss: 0.2870 - val_acc: 0.8783 - 2s/epoch - 12ms/step\n"
          ]
        }
      ]
    },
    {
      "cell_type": "code",
      "source": [
        "plt.plot(history.history['acc'])\n",
        "plt.plot(history.history['val_acc'],'g')\n",
        "plt.title('GCN model accuracy')\n",
        "plt.ylabel('Accuracy')\n",
        "plt.xlabel('Epoch')\n",
        "plt.legend(['Train', 'Validation'], loc='upper left')\n",
        "\n",
        "plt.ylim(0, 1.1)\n",
        "plt.show()\n",
        "\n",
        "plt.plot(history.history['loss'])\n",
        "plt.plot(history.history['val_loss'],'g')\n",
        "plt.title('GCN model loss')\n",
        "plt.ylabel('loss')\n",
        "plt.xlabel('Epoch')\n",
        "plt.legend(['Train', 'Validation'], loc='upper left')\n",
        "plt.ylim(0, 1.1)\n",
        "plt.show()\n",
        "\n",
        "test_metrics = model.evaluate(test_gen)\n",
        "print(\"\\nTest Set Metrics:\")\n",
        "for name, val in zip(model.metrics_names, test_metrics):\n",
        "    print(\"\\t{}: {:0.4f}\".format(name, val))"
      ],
      "metadata": {
        "colab": {
          "base_uri": "https://localhost:8080/",
          "height": 660
        },
        "id": "FYlQ8jA9UkMz",
        "outputId": "78c9c729-ace8-4aa8-de25-6074368e4448"
      },
      "execution_count": null,
      "outputs": [
        {
          "output_type": "display_data",
          "data": {
            "text/plain": [
              "<Figure size 432x288 with 1 Axes>"
            ],
            "image/png": "[encoded data removed]"
          },
          "metadata": {
            "needs_background": "light"
          }
        },
        {
          "output_type": "display_data",
          "data": {
            "text/plain": [
              "<Figure size 432x288 with 1 Axes>"
            ],
            "image/png": "[encoded data removed]"
          },
          "metadata": {
            "needs_background": "light"
          }
        },
        {
          "output_type": "stream",
          "name": "stdout",
          "text": [
            "240/240 [==============================] - 1s 5ms/step - loss: 0.2866 - acc: 0.8783\n",
            "\n",
            "Test Set Metrics:\n",
            "\tloss: 0.2866\n",
            "\tacc: 0.8783\n"
          ]
        }
      ]
    },
    {
      "cell_type": "code",
      "source": [
        "all_nodes = train_subjects\n",
        "all_mapper = generator.flow(all_nodes)\n",
        "all_predictions = model.predict(all_mapper)"
      ],
      "metadata": {
        "id": "S6BIXQhqUsdT"
      },
      "execution_count": null,
      "outputs": []
    },
    {
      "cell_type": "code",
      "source": [
        "node_predictions = target_encoding.inverse_transform(all_predictions)"
      ],
      "metadata": {
        "id": "--on-AiDUucE"
      },
      "execution_count": null,
      "outputs": []
    },
    {
      "cell_type": "code",
      "source": [
        "df = pd.DataFrame({\"Predicted\": node_predictions, \"True\": train_subjects})\n",
        "df.head(30)\n",
        "\n",
        "\n"
      ],
      "metadata": {
        "colab": {
          "base_uri": "https://localhost:8080/",
          "height": 990
        },
        "id": "YvwdcJ3-U0Zs",
        "outputId": "5eef9026-5ee1-4a2c-ffee-b904ce892177"
      },
      "execution_count": null,
      "outputs": [
        {
          "output_type": "execute_result",
          "data": {
            "text/plain": [
              "      Predicted  True\n",
              "1564          0     0\n",
              "866           0     0\n",
              "1250          0     0\n",
              "1689          1     1\n",
              "1187          1     1\n",
              "400           1     1\n",
              "1298          2     3\n",
              "814           0     0\n",
              "936           0     0\n",
              "1182          0     0\n",
              "1415          2     3\n",
              "911           0     0\n",
              "1558          0     0\n",
              "1244          2     3\n",
              "1345          0     0\n",
              "874           2     3\n",
              "1756          0     0\n",
              "1901          0     0\n",
              "172           0     0\n",
              "598           0     0\n",
              "519           2     3\n",
              "823           2     2\n",
              "346           1     1\n",
              "1035          0     0\n",
              "918           2     2\n",
              "1874          0     0\n",
              "269           0     0\n",
              "141           0     0\n",
              "214           1     1\n",
              "1542          1     1"
            ],
            "text/html": [
              "\n",
              "  <div id=\"df-a8032268-fd05-4407-90d8-4eb4fce6115b\">\n",
              "    <div class=\"colab-df-container\">\n",
              "      <div>\n",
              "<style scoped>\n",
              "    .dataframe tbody tr th:only-of-type {\n",
              "        vertical-align: middle;\n",
              "    }\n",
              "\n",
              "    .dataframe tbody tr th {\n",
              "        vertical-align: top;\n",
              "    }\n",
              "\n",
              "    .dataframe thead th {\n",
              "        text-align: right;\n",
              "    }\n",
              "</style>\n",
              "<table border=\"1\" class=\"dataframe\">\n",
              "  <thead>\n",
              "    <tr style=\"text-align: right;\">\n",
              "      <th></th>\n",
              "      <th>Predicted</th>\n",
              "      <th>True</th>\n",
              "    </tr>\n",
              "  </thead>\n",
              "  <tbody>\n",
              "    <tr>\n",
              "      <th>1564</th>\n",
              "      <td>0</td>\n",
              "      <td>0</td>\n",
              "    </tr>\n",
              "    <tr>\n",
              "      <th>866</th>\n",
              "      <td>0</td>\n",
              "      <td>0</td>\n",
              "    </tr>\n",
              "    <tr>\n",
              "      <th>1250</th>\n",
              "      <td>0</td>\n",
              "      <td>0</td>\n",
              "    </tr>\n",
              "    <tr>\n",
              "      <th>1689</th>\n",
              "      <td>1</td>\n",
              "      <td>1</td>\n",
              "    </tr>\n",
              "    <tr>\n",
              "      <th>1187</th>\n",
              "      <td>1</td>\n",
              "      <td>1</td>\n",
              "    </tr>\n",
              "    <tr>\n",
              "      <th>400</th>\n",
              "      <td>1</td>\n",
              "      <td>1</td>\n",
              "    </tr>\n",
              "    <tr>\n",
              "      <th>1298</th>\n",
              "      <td>2</td>\n",
              "      <td>3</td>\n",
              "    </tr>\n",
              "    <tr>\n",
              "      <th>814</th>\n",
              "      <td>0</td>\n",
              "      <td>0</td>\n",
              "    </tr>\n",
              "    <tr>\n",
              "      <th>936</th>\n",
              "      <td>0</td>\n",
              "      <td>0</td>\n",
              "    </tr>\n",
              "    <tr>\n",
              "      <th>1182</th>\n",
              "      <td>0</td>\n",
              "      <td>0</td>\n",
              "    </tr>\n",
              "    <tr>\n",
              "      <th>1415</th>\n",
              "      <td>2</td>\n",
              "      <td>3</td>\n",
              "    </tr>\n",
              "    <tr>\n",
              "      <th>911</th>\n",
              "      <td>0</td>\n",
              "      <td>0</td>\n",
              "    </tr>\n",
              "    <tr>\n",
              "      <th>1558</th>\n",
              "      <td>0</td>\n",
              "      <td>0</td>\n",
              "    </tr>\n",
              "    <tr>\n",
              "      <th>1244</th>\n",
              "      <td>2</td>\n",
              "      <td>3</td>\n",
              "    </tr>\n",
              "    <tr>\n",
              "      <th>1345</th>\n",
              "      <td>0</td>\n",
              "      <td>0</td>\n",
              "    </tr>\n",
              "    <tr>\n",
              "      <th>874</th>\n",
              "      <td>2</td>\n",
              "      <td>3</td>\n",
              "    </tr>\n",
              "    <tr>\n",
              "      <th>1756</th>\n",
              "      <td>0</td>\n",
              "      <td>0</td>\n",
              "    </tr>\n",
              "    <tr>\n",
              "      <th>1901</th>\n",
              "      <td>0</td>\n",
              "      <td>0</td>\n",
              "    </tr>\n",
              "    <tr>\n",
              "      <th>172</th>\n",
              "      <td>0</td>\n",
              "      <td>0</td>\n",
              "    </tr>\n",
              "    <tr>\n",
              "      <th>598</th>\n",
              "      <td>0</td>\n",
              "      <td>0</td>\n",
              "    </tr>\n",
              "    <tr>\n",
              "      <th>519</th>\n",
              "      <td>2</td>\n",
              "      <td>3</td>\n",
              "    </tr>\n",
              "    <tr>\n",
              "      <th>823</th>\n",
              "      <td>2</td>\n",
              "      <td>2</td>\n",
              "    </tr>\n",
              "    <tr>\n",
              "      <th>346</th>\n",
              "      <td>1</td>\n",
              "      <td>1</td>\n",
              "    </tr>\n",
              "    <tr>\n",
              "      <th>1035</th>\n",
              "      <td>0</td>\n",
              "      <td>0</td>\n",
              "    </tr>\n",
              "    <tr>\n",
              "      <th>918</th>\n",
              "      <td>2</td>\n",
              "      <td>2</td>\n",
              "    </tr>\n",
              "    <tr>\n",
              "      <th>1874</th>\n",
              "      <td>0</td>\n",
              "      <td>0</td>\n",
              "    </tr>\n",
              "    <tr>\n",
              "      <th>269</th>\n",
              "      <td>0</td>\n",
              "      <td>0</td>\n",
              "    </tr>\n",
              "    <tr>\n",
              "      <th>141</th>\n",
              "      <td>0</td>\n",
              "      <td>0</td>\n",
              "    </tr>\n",
              "    <tr>\n",
              "      <th>214</th>\n",
              "      <td>1</td>\n",
              "      <td>1</td>\n",
              "    </tr>\n",
              "    <tr>\n",
              "      <th>1542</th>\n",
              "      <td>1</td>\n",
              "      <td>1</td>\n",
              "    </tr>\n",
              "  </tbody>\n",
              "</table>\n",
              "</div>\n",
              "      <button class=\"colab-df-convert\" onclick=\"convertToInteractive('df-a8032268-fd05-4407-90d8-4eb4fce6115b')\"\n",
              "              title=\"Convert this dataframe to an interactive table.\"\n",
              "              style=\"display:none;\">\n",
              "        \n",
              "  <svg xmlns=\"http://www.w3.org/2000/svg\" height=\"24px\"viewBox=\"0 0 24 24\"\n",
              "       width=\"24px\">\n",
              "    <path d=\"M0 0h24v24H0V0z\" fill=\"none\"/>\n",
              "    <path d=\"M18.56 5.44l.94 2.06.94-2.06 2.06-.94-2.06-.94-.94-2.06-.94 2.06-2.06.94zm-11 1L8.5 8.5l.94-2.06 2.06-.94-2.06-.94L8.5 2.5l-.94 2.06-2.06.94zm10 10l.94 2.06.94-2.06 2.06-.94-2.06-.94-.94-2.06-.94 2.06-2.06.94z\"/><path d=\"M17.41 7.96l-1.37-1.37c-.4-.4-.92-.59-1.43-.59-.52 0-1.04.2-1.43.59L10.3 9.45l-7.72 7.72c-.78.78-.78 2.05 0 2.83L4 21.41c.39.39.9.59 1.41.59.51 0 1.02-.2 1.41-.59l7.78-7.78 2.81-2.81c.8-.78.8-2.07 0-2.86zM5.41 20L4 18.59l7.72-7.72 1.47 1.35L5.41 20z\"/>\n",
              "  </svg>\n",
              "      </button>\n",
              "      \n",
              "  <style>\n",
              "    .colab-df-container {\n",
              "      display:flex;\n",
              "      flex-wrap:wrap;\n",
              "      gap: 12px;\n",
              "    }\n",
              "\n",
              "    .colab-df-convert {\n",
              "      background-color: #E8F0FE;\n",
              "      border: none;\n",
              "      border-radius: 50%;\n",
              "      cursor: pointer;\n",
              "      display: none;\n",
              "      fill: #1967D2;\n",
              "      height: 32px;\n",
              "      padding: 0 0 0 0;\n",
              "      width: 32px;\n",
              "    }\n",
              "\n",
              "    .colab-df-convert:hover {\n",
              "      background-color: #E2EBFA;\n",
              "      box-shadow: 0px 1px 2px rgba(60, 64, 67, 0.3), 0px 1px 3px 1px rgba(60, 64, 67, 0.15);\n",
              "      fill: #174EA6;\n",
              "    }\n",
              "\n",
              "    [theme=dark] .colab-df-convert {\n",
              "      background-color: #3B4455;\n",
              "      fill: #D2E3FC;\n",
              "    }\n",
              "\n",
              "    [theme=dark] .colab-df-convert:hover {\n",
              "      background-color: #434B5C;\n",
              "      box-shadow: 0px 1px 3px 1px rgba(0, 0, 0, 0.15);\n",
              "      filter: drop-shadow(0px 1px 2px rgba(0, 0, 0, 0.3));\n",
              "      fill: #FFFFFF;\n",
              "    }\n",
              "  </style>\n",
              "\n",
              "      <script>\n",
              "        const buttonEl =\n",
              "          document.querySelector('#df-a8032268-fd05-4407-90d8-4eb4fce6115b button.colab-df-convert');\n",
              "        buttonEl.style.display =\n",
              "          google.colab.kernel.accessAllowed ? 'block' : 'none';\n",
              "\n",
              "        async function convertToInteractive(key) {\n",
              "          const element = document.querySelector('#df-a8032268-fd05-4407-90d8-4eb4fce6115b');\n",
              "          const dataTable =\n",
              "            await google.colab.kernel.invokeFunction('convertToInteractive',\n",
              "                                                     [key], {});\n",
              "          if (!dataTable) return;\n",
              "\n",
              "          const docLinkHtml = 'Like what you see? Visit the ' +\n",
              "            '<a target=\"_blank\" href=https://colab.research.google.com/notebooks/data_table.ipynb>data table notebook</a>'\n",
              "            + ' to learn more about interactive tables.';\n",
              "          element.innerHTML = '';\n",
              "          dataTable['output_type'] = 'display_data';\n",
              "          await google.colab.output.renderOutput(dataTable, element);\n",
              "          const docLink = document.createElement('div');\n",
              "          docLink.innerHTML = docLinkHtml;\n",
              "          element.appendChild(docLink);\n",
              "        }\n",
              "      </script>\n",
              "    </div>\n",
              "  </div>\n",
              "  "
            ]
          },
          "metadata": {},
          "execution_count": 126
        }
      ]
    },
    {
      "cell_type": "code",
      "source": [
        "Gnx = G.to_networkx(feature_attr=None)"
      ],
      "metadata": {
        "id": "RbbR-GayVHu-"
      },
      "execution_count": null,
      "outputs": []
    },
    {
      "cell_type": "code",
      "source": [
        "for nid, pred, true in zip(df.index, df[\"Predicted\"], df[\"True\"]):\n",
        "    Gnx.nodes[nid][\"subject\"] = true\n",
        "    Gnx.nodes[nid][\"PREDICTED_subject\"] = pred.split(\"=\")[-1]"
      ],
      "metadata": {
        "id": "dXetMR7AVKPV",
        "colab": {
          "base_uri": "https://localhost:8080/",
          "height": 207
        },
        "outputId": "87d5d82a-c970-48f9-bf76-727cccb54972"
      },
      "execution_count": null,
      "outputs": [
        {
          "output_type": "error",
          "ename": "AttributeError",
          "evalue": "ignored",
          "traceback": [
            "\u001b[0;31m---------------------------------------------------------------------------\u001b[0m",
            "\u001b[0;31mAttributeError\u001b[0m                            Traceback (most recent call last)",
            "\u001b[0;32m<ipython-input-39-2dcbeb239638>\u001b[0m in \u001b[0;36m<module>\u001b[0;34m()\u001b[0m\n\u001b[1;32m      1\u001b[0m \u001b[0;32mfor\u001b[0m \u001b[0mnid\u001b[0m\u001b[0;34m,\u001b[0m \u001b[0mpred\u001b[0m\u001b[0;34m,\u001b[0m \u001b[0mtrue\u001b[0m \u001b[0;32min\u001b[0m \u001b[0mzip\u001b[0m\u001b[0;34m(\u001b[0m\u001b[0mdf\u001b[0m\u001b[0;34m.\u001b[0m\u001b[0mindex\u001b[0m\u001b[0;34m,\u001b[0m \u001b[0mdf\u001b[0m\u001b[0;34m[\u001b[0m\u001b[0;34m\"Predicted\"\u001b[0m\u001b[0;34m]\u001b[0m\u001b[0;34m,\u001b[0m \u001b[0mdf\u001b[0m\u001b[0;34m[\u001b[0m\u001b[0;34m\"True\"\u001b[0m\u001b[0;34m]\u001b[0m\u001b[0;34m)\u001b[0m\u001b[0;34m:\u001b[0m\u001b[0;34m\u001b[0m\u001b[0;34m\u001b[0m\u001b[0m\n\u001b[1;32m      2\u001b[0m     \u001b[0mGnx\u001b[0m\u001b[0;34m.\u001b[0m\u001b[0mnodes\u001b[0m\u001b[0;34m[\u001b[0m\u001b[0mnid\u001b[0m\u001b[0;34m]\u001b[0m\u001b[0;34m[\u001b[0m\u001b[0;34m\"subject\"\u001b[0m\u001b[0;34m]\u001b[0m \u001b[0;34m=\u001b[0m \u001b[0mtrue\u001b[0m\u001b[0;34m\u001b[0m\u001b[0;34m\u001b[0m\u001b[0m\n\u001b[0;32m----> 3\u001b[0;31m     \u001b[0mGnx\u001b[0m\u001b[0;34m.\u001b[0m\u001b[0mnodes\u001b[0m\u001b[0;34m[\u001b[0m\u001b[0mnid\u001b[0m\u001b[0;34m]\u001b[0m\u001b[0;34m[\u001b[0m\u001b[0;34m\"PREDICTED_subject\"\u001b[0m\u001b[0;34m]\u001b[0m \u001b[0;34m=\u001b[0m \u001b[0mpred\u001b[0m\u001b[0;34m.\u001b[0m\u001b[0msplit\u001b[0m\u001b[0;34m(\u001b[0m\u001b[0;34m\"=\"\u001b[0m\u001b[0;34m)\u001b[0m\u001b[0;34m[\u001b[0m\u001b[0;34m-\u001b[0m\u001b[0;36m1\u001b[0m\u001b[0;34m]\u001b[0m\u001b[0;34m\u001b[0m\u001b[0;34m\u001b[0m\u001b[0m\n\u001b[0m",
            "\u001b[0;31mAttributeError\u001b[0m: 'int' object has no attribute 'split'"
          ]
        }
      ]
    },
    {
      "cell_type": "code",
      "source": [
        "print(\"\\nTest Set Metrics:\")\n",
        "for name, val in zip(model.metrics_names, test_metrics):\n",
        "    print(\"\\t{}: {:0.4f}\".format(name, val))\n",
        "    \n",
        "\n",
        "from sklearn.metrics import confusion_matrix\n",
        "import seaborn as sns\n",
        "import matplotlib.pyplot as plt\n",
        "\n",
        "\n",
        "cf_matrix = confusion_matrix(train_subjects,node_predictions)\n",
        "print(cf_matrix)\n",
        "\n",
        "cf_matrix1 = pd.DataFrame(cf_matrix,  index=[\"Non Porous\",\"Small\",\"Medium\",\"Large\"], columns=[\"Non Porous\",\"Small\",\"Medium\",\"Large\"])\n",
        "ax = sns.heatmap(cf_matrix1, annot=True, cmap='BuGn',fmt='g',annot_kws={\"size\": 12})\n",
        "\n",
        "ax.set_title('Confusion Matrix for PLD prediction\\n\\n');\n",
        "ax.set_xlabel('\\nPredicted Values')\n",
        "ax.set_ylabel('Actual Values ');\n",
        "\n"
      ],
      "metadata": {
        "colab": {
          "base_uri": "https://localhost:8080/",
          "height": 476
        },
        "id": "iaroF0drZY78",
        "outputId": "8bf1693e-875e-4b05-fb70-1d0f5a5c142f"
      },
      "execution_count": null,
      "outputs": [
        {
          "output_type": "stream",
          "name": "stdout",
          "text": [
            "\n",
            "Test Set Metrics:\n",
            "\tloss: 0.2866\n",
            "\tacc: 0.8783\n",
            "[[424   0   0   0]\n",
            " [  0 169   0   0]\n",
            " [  0   0 108   0]\n",
            " [  0   0  98   0]]\n"
          ]
        },
        {
          "output_type": "display_data",
          "data": {
            "text/plain": [
              "<Figure size 432x288 with 2 Axes>"
            ],
            "image/png": "[encoded data removed]"
          },
          "metadata": {
            "needs_background": "light"
          }
        }
      ]
    },
    {
      "cell_type": "code",
      "source": [
        "embedding_model = Model(inputs=x_inp, outputs=x_out)"
      ],
      "metadata": {
        "id": "gUibSmlJN1hj"
      },
      "execution_count": null,
      "outputs": []
    },
    {
      "cell_type": "code",
      "source": [
        "emb = embedding_model.predict(all_mapper)\n",
        "emb.shape"
      ],
      "metadata": {
        "colab": {
          "base_uri": "https://localhost:8080/"
        },
        "id": "YblG9RJlN64V",
        "outputId": "48aa446e-9025-4ea1-fe6b-6a9c6d840612"
      },
      "execution_count": null,
      "outputs": [
        {
          "output_type": "execute_result",
          "data": {
            "text/plain": [
              "(799, 32)"
            ]
          },
          "metadata": {},
          "execution_count": 42
        }
      ]
    },
    {
      "cell_type": "code",
      "source": [
        "from sklearn.decomposition import PCA\n",
        "from sklearn.manifold import TSNE\n",
        "import pandas as pd\n",
        "import numpy as np"
      ],
      "metadata": {
        "id": "4sMtV8oUOAcS"
      },
      "execution_count": null,
      "outputs": []
    },
    {
      "cell_type": "code",
      "source": [
        "X = emb\n",
        "y = np.argmax(target_encoding.transform(node_subjects), axis=1)"
      ],
      "metadata": {
        "id": "DP1rFTXuOEHu"
      },
      "execution_count": null,
      "outputs": []
    },
    {
      "cell_type": "code",
      "source": [
        "if X.shape[1] > 2:\n",
        "    transform = TSNE  # PCA\n",
        "\n",
        "    trans = transform(n_components=2)\n",
        "    emb_transformed = pd.DataFrame(trans.fit_transform(X), index=node_subjects.index)\n",
        "    emb_transformed[\"label\"] = y\n",
        "else:\n",
        "    emb_transformed = pd.DataFrame(X, index=node_subjects.index)\n",
        "    emb_transformed = emb_transformed.rename(columns={\"0\": 0, \"1\": 1})\n",
        "    emb_transformed[\"label\"] = y"
      ],
      "metadata": {
        "colab": {
          "base_uri": "https://localhost:8080/",
          "height": 467
        },
        "id": "xQPvzd5NOHQw",
        "outputId": "89055bdf-efe1-4852-fd9c-dfc7e7957f6d"
      },
      "execution_count": null,
      "outputs": [
        {
          "output_type": "stream",
          "name": "stderr",
          "text": [
            "/usr/local/lib/python3.7/dist-packages/sklearn/manifold/_t_sne.py:783: FutureWarning: The default initialization in TSNE will change from 'random' to 'pca' in 1.2.\n",
            "  FutureWarning,\n",
            "/usr/local/lib/python3.7/dist-packages/sklearn/manifold/_t_sne.py:793: FutureWarning: The default learning rate in TSNE will change from 200.0 to 'auto' in 1.2.\n",
            "  FutureWarning,\n"
          ]
        },
        {
          "output_type": "error",
          "ename": "ValueError",
          "evalue": "ignored",
          "traceback": [
            "\u001b[0;31m---------------------------------------------------------------------------\u001b[0m",
            "\u001b[0;31mValueError\u001b[0m                                Traceback (most recent call last)",
            "\u001b[0;32m<ipython-input-45-56e3c85859cb>\u001b[0m in \u001b[0;36m<module>\u001b[0;34m()\u001b[0m\n\u001b[1;32m      3\u001b[0m \u001b[0;34m\u001b[0m\u001b[0m\n\u001b[1;32m      4\u001b[0m     \u001b[0mtrans\u001b[0m \u001b[0;34m=\u001b[0m \u001b[0mtransform\u001b[0m\u001b[0;34m(\u001b[0m\u001b[0mn_components\u001b[0m\u001b[0;34m=\u001b[0m\u001b[0;36m2\u001b[0m\u001b[0;34m)\u001b[0m\u001b[0;34m\u001b[0m\u001b[0;34m\u001b[0m\u001b[0m\n\u001b[0;32m----> 5\u001b[0;31m     \u001b[0memb_transformed\u001b[0m \u001b[0;34m=\u001b[0m \u001b[0mpd\u001b[0m\u001b[0;34m.\u001b[0m\u001b[0mDataFrame\u001b[0m\u001b[0;34m(\u001b[0m\u001b[0mtrans\u001b[0m\u001b[0;34m.\u001b[0m\u001b[0mfit_transform\u001b[0m\u001b[0;34m(\u001b[0m\u001b[0mX\u001b[0m\u001b[0;34m)\u001b[0m\u001b[0;34m,\u001b[0m \u001b[0mindex\u001b[0m\u001b[0;34m=\u001b[0m\u001b[0mnode_subjects\u001b[0m\u001b[0;34m.\u001b[0m\u001b[0mindex\u001b[0m\u001b[0;34m)\u001b[0m\u001b[0;34m\u001b[0m\u001b[0;34m\u001b[0m\u001b[0m\n\u001b[0m\u001b[1;32m      6\u001b[0m     \u001b[0memb_transformed\u001b[0m\u001b[0;34m[\u001b[0m\u001b[0;34m\"label\"\u001b[0m\u001b[0;34m]\u001b[0m \u001b[0;34m=\u001b[0m \u001b[0my\u001b[0m\u001b[0;34m\u001b[0m\u001b[0;34m\u001b[0m\u001b[0m\n\u001b[1;32m      7\u001b[0m \u001b[0;32melse\u001b[0m\u001b[0;34m:\u001b[0m\u001b[0;34m\u001b[0m\u001b[0;34m\u001b[0m\u001b[0m\n",
            "\u001b[0;32m/usr/local/lib/python3.7/dist-packages/pandas/core/frame.py\u001b[0m in \u001b[0;36m__init__\u001b[0;34m(self, data, index, columns, dtype, copy)\u001b[0m\n\u001b[1;32m    676\u001b[0m                     \u001b[0mdtype\u001b[0m\u001b[0;34m=\u001b[0m\u001b[0mdtype\u001b[0m\u001b[0;34m,\u001b[0m\u001b[0;34m\u001b[0m\u001b[0;34m\u001b[0m\u001b[0m\n\u001b[1;32m    677\u001b[0m                     \u001b[0mcopy\u001b[0m\u001b[0;34m=\u001b[0m\u001b[0mcopy\u001b[0m\u001b[0;34m,\u001b[0m\u001b[0;34m\u001b[0m\u001b[0;34m\u001b[0m\u001b[0m\n\u001b[0;32m--> 678\u001b[0;31m                     \u001b[0mtyp\u001b[0m\u001b[0;34m=\u001b[0m\u001b[0mmanager\u001b[0m\u001b[0;34m,\u001b[0m\u001b[0;34m\u001b[0m\u001b[0;34m\u001b[0m\u001b[0m\n\u001b[0m\u001b[1;32m    679\u001b[0m                 )\n\u001b[1;32m    680\u001b[0m \u001b[0;34m\u001b[0m\u001b[0m\n",
            "\u001b[0;32m/usr/local/lib/python3.7/dist-packages/pandas/core/internals/construction.py\u001b[0m in \u001b[0;36mndarray_to_mgr\u001b[0;34m(values, index, columns, dtype, copy, typ)\u001b[0m\n\u001b[1;32m    322\u001b[0m     )\n\u001b[1;32m    323\u001b[0m \u001b[0;34m\u001b[0m\u001b[0m\n\u001b[0;32m--> 324\u001b[0;31m     \u001b[0m_check_values_indices_shape_match\u001b[0m\u001b[0;34m(\u001b[0m\u001b[0mvalues\u001b[0m\u001b[0;34m,\u001b[0m \u001b[0mindex\u001b[0m\u001b[0;34m,\u001b[0m \u001b[0mcolumns\u001b[0m\u001b[0;34m)\u001b[0m\u001b[0;34m\u001b[0m\u001b[0;34m\u001b[0m\u001b[0m\n\u001b[0m\u001b[1;32m    325\u001b[0m \u001b[0;34m\u001b[0m\u001b[0m\n\u001b[1;32m    326\u001b[0m     \u001b[0;32mif\u001b[0m \u001b[0mtyp\u001b[0m \u001b[0;34m==\u001b[0m \u001b[0;34m\"array\"\u001b[0m\u001b[0;34m:\u001b[0m\u001b[0;34m\u001b[0m\u001b[0;34m\u001b[0m\u001b[0m\n",
            "\u001b[0;32m/usr/local/lib/python3.7/dist-packages/pandas/core/internals/construction.py\u001b[0m in \u001b[0;36m_check_values_indices_shape_match\u001b[0;34m(values, index, columns)\u001b[0m\n\u001b[1;32m    391\u001b[0m         \u001b[0mpassed\u001b[0m \u001b[0;34m=\u001b[0m \u001b[0mvalues\u001b[0m\u001b[0;34m.\u001b[0m\u001b[0mshape\u001b[0m\u001b[0;34m\u001b[0m\u001b[0;34m\u001b[0m\u001b[0m\n\u001b[1;32m    392\u001b[0m         \u001b[0mimplied\u001b[0m \u001b[0;34m=\u001b[0m \u001b[0;34m(\u001b[0m\u001b[0mlen\u001b[0m\u001b[0;34m(\u001b[0m\u001b[0mindex\u001b[0m\u001b[0;34m)\u001b[0m\u001b[0;34m,\u001b[0m \u001b[0mlen\u001b[0m\u001b[0;34m(\u001b[0m\u001b[0mcolumns\u001b[0m\u001b[0;34m)\u001b[0m\u001b[0;34m)\u001b[0m\u001b[0;34m\u001b[0m\u001b[0;34m\u001b[0m\u001b[0m\n\u001b[0;32m--> 393\u001b[0;31m         \u001b[0;32mraise\u001b[0m \u001b[0mValueError\u001b[0m\u001b[0;34m(\u001b[0m\u001b[0;34mf\"Shape of passed values is {passed}, indices imply {implied}\"\u001b[0m\u001b[0;34m)\u001b[0m\u001b[0;34m\u001b[0m\u001b[0;34m\u001b[0m\u001b[0m\n\u001b[0m\u001b[1;32m    394\u001b[0m \u001b[0;34m\u001b[0m\u001b[0m\n\u001b[1;32m    395\u001b[0m \u001b[0;34m\u001b[0m\u001b[0m\n",
            "\u001b[0;31mValueError\u001b[0m: Shape of passed values is (799, 2), indices imply (1999, 2)"
          ]
        }
      ]
    },
    {
      "cell_type": "code",
      "source": [
        "alpha = 0.8\n",
        "\n",
        "fig, ax = plt.subplots(figsize=(5, 5))\n",
        "ax.scatter(\n",
        "    emb_transformed[0],\n",
        "    emb_transformed[1],\n",
        "    c=emb_transformed[\"label\"].astype(\"category\"),\n",
        "    cmap=\"jet\",\n",
        "    alpha=alpha,\n",
        ")\n",
        "ax.set(aspect=\"equal\", xlabel=\"$X_1$\", ylabel=\"$X_2$\")\n",
        "plt.title(\n",
        "    \"{} visualization of GraphSAGE embeddings for MOFSocialNetX\".format(transform.__name__)\n",
        ")\n",
        "plt.show()"
      ],
      "metadata": {
        "colab": {
          "base_uri": "https://localhost:8080/",
          "height": 550
        },
        "id": "sThIjgsuOMz8",
        "outputId": "367969cd-209d-4f84-c641-02af345467c9"
      },
      "execution_count": null,
      "outputs": [
        {
          "output_type": "error",
          "ename": "NameError",
          "evalue": "ignored",
          "traceback": [
            "\u001b[0;31m---------------------------------------------------------------------------\u001b[0m",
            "\u001b[0;31mNameError\u001b[0m                                 Traceback (most recent call last)",
            "\u001b[0;32m<ipython-input-46-46fa95b30f84>\u001b[0m in \u001b[0;36m<module>\u001b[0;34m()\u001b[0m\n\u001b[1;32m      3\u001b[0m \u001b[0mfig\u001b[0m\u001b[0;34m,\u001b[0m \u001b[0max\u001b[0m \u001b[0;34m=\u001b[0m \u001b[0mplt\u001b[0m\u001b[0;34m.\u001b[0m\u001b[0msubplots\u001b[0m\u001b[0;34m(\u001b[0m\u001b[0mfigsize\u001b[0m\u001b[0;34m=\u001b[0m\u001b[0;34m(\u001b[0m\u001b[0;36m5\u001b[0m\u001b[0;34m,\u001b[0m \u001b[0;36m5\u001b[0m\u001b[0;34m)\u001b[0m\u001b[0;34m)\u001b[0m\u001b[0;34m\u001b[0m\u001b[0;34m\u001b[0m\u001b[0m\n\u001b[1;32m      4\u001b[0m ax.scatter(\n\u001b[0;32m----> 5\u001b[0;31m     \u001b[0memb_transformed\u001b[0m\u001b[0;34m[\u001b[0m\u001b[0;36m0\u001b[0m\u001b[0;34m]\u001b[0m\u001b[0;34m,\u001b[0m\u001b[0;34m\u001b[0m\u001b[0;34m\u001b[0m\u001b[0m\n\u001b[0m\u001b[1;32m      6\u001b[0m     \u001b[0memb_transformed\u001b[0m\u001b[0;34m[\u001b[0m\u001b[0;36m1\u001b[0m\u001b[0;34m]\u001b[0m\u001b[0;34m,\u001b[0m\u001b[0;34m\u001b[0m\u001b[0;34m\u001b[0m\u001b[0m\n\u001b[1;32m      7\u001b[0m     \u001b[0mc\u001b[0m\u001b[0;34m=\u001b[0m\u001b[0memb_transformed\u001b[0m\u001b[0;34m[\u001b[0m\u001b[0;34m\"label\"\u001b[0m\u001b[0;34m]\u001b[0m\u001b[0;34m.\u001b[0m\u001b[0mastype\u001b[0m\u001b[0;34m(\u001b[0m\u001b[0;34m\"category\"\u001b[0m\u001b[0;34m)\u001b[0m\u001b[0;34m,\u001b[0m\u001b[0;34m\u001b[0m\u001b[0;34m\u001b[0m\u001b[0m\n",
            "\u001b[0;31mNameError\u001b[0m: name 'emb_transformed' is not defined"
          ]
        },
        {
          "output_type": "display_data",
          "data": {
            "text/plain": [
              "<Figure size 360x360 with 1 Axes>"
            ],
            "image/png": "[encoded data removed]"
          },
          "metadata": {
            "needs_background": "light"
          }
        }
      ]
    },
    {
      "cell_type": "code",
      "source": [
        "for nid in train_subjects.index:\n",
        "    Gnx.nodes[nid][\"isTrain\"] = True\n",
        "\n",
        "for nid in test_subjects.index:\n",
        "    Gnx.nodes[nid][\"isTrain\"] = False"
      ],
      "metadata": {
        "id": "9yZcm_hRVNE0"
      },
      "execution_count": null,
      "outputs": []
    },
    {
      "cell_type": "code",
      "source": [
        "for nid in Gnx.nodes():\n",
        "    Gnx.nodes[nid][\"isCorrect\"] = (\n",
        "        Gnx.nodes[nid][\"subject\"] == Gnx.nodes[nid][\"PREDICTED_subject\"]\n",
        "    )"
      ],
      "metadata": {
        "id": "jvYSnpa0VPol",
        "colab": {
          "base_uri": "https://localhost:8080/",
          "height": 225
        },
        "outputId": "9bdca4b6-ded0-4b33-cd6f-4a80cebad1f2"
      },
      "execution_count": null,
      "outputs": [
        {
          "output_type": "error",
          "ename": "KeyError",
          "evalue": "ignored",
          "traceback": [
            "\u001b[0;31m---------------------------------------------------------------------------\u001b[0m",
            "\u001b[0;31mKeyError\u001b[0m                                  Traceback (most recent call last)",
            "\u001b[0;32m<ipython-input-49-2aedbdbab9c1>\u001b[0m in \u001b[0;36m<module>\u001b[0;34m()\u001b[0m\n\u001b[1;32m      1\u001b[0m \u001b[0;32mfor\u001b[0m \u001b[0mnid\u001b[0m \u001b[0;32min\u001b[0m \u001b[0mGnx\u001b[0m\u001b[0;34m.\u001b[0m\u001b[0mnodes\u001b[0m\u001b[0;34m(\u001b[0m\u001b[0;34m)\u001b[0m\u001b[0;34m:\u001b[0m\u001b[0;34m\u001b[0m\u001b[0;34m\u001b[0m\u001b[0m\n\u001b[1;32m      2\u001b[0m     Gnx.nodes[nid][\"isCorrect\"] = (\n\u001b[0;32m----> 3\u001b[0;31m         \u001b[0mGnx\u001b[0m\u001b[0;34m.\u001b[0m\u001b[0mnodes\u001b[0m\u001b[0;34m[\u001b[0m\u001b[0mnid\u001b[0m\u001b[0;34m]\u001b[0m\u001b[0;34m[\u001b[0m\u001b[0;34m\"subject\"\u001b[0m\u001b[0;34m]\u001b[0m \u001b[0;34m==\u001b[0m \u001b[0mGnx\u001b[0m\u001b[0;34m.\u001b[0m\u001b[0mnodes\u001b[0m\u001b[0;34m[\u001b[0m\u001b[0mnid\u001b[0m\u001b[0;34m]\u001b[0m\u001b[0;34m[\u001b[0m\u001b[0;34m\"PREDICTED_subject\"\u001b[0m\u001b[0;34m]\u001b[0m\u001b[0;34m\u001b[0m\u001b[0;34m\u001b[0m\u001b[0m\n\u001b[0m\u001b[1;32m      4\u001b[0m     )\n",
            "\u001b[0;31mKeyError\u001b[0m: 'subject'"
          ]
        }
      ]
    },
    {
      "cell_type": "code",
      "source": [
        "pred_fname = \"pred_n={}.graphml\".format(num_samples)\n",
        "nx.write_graphml(Gnx, os.path.join(dataset.data_directory, pred_fname))"
      ],
      "metadata": {
        "id": "rZQh0ml7VSU0"
      },
      "execution_count": null,
      "outputs": []
    },
    {
      "cell_type": "code",
      "source": [
        "pip install stellargraph\n"
      ],
      "metadata": {
        "colab": {
          "base_uri": "https://localhost:8080/"
        },
        "id": "yiVYxpiIS9H1",
        "outputId": "8e8e360a-1ae5-4d18-d7c5-6c49108cc02f"
      },
      "execution_count": null,
      "outputs": [
        {
          "output_type": "stream",
          "name": "stdout",
          "text": [
            "Looking in indexes: https://pypi.org/simple, https://us-python.pkg.dev/colab-wheels/public/simple/\n",
            "Collecting stellargraph\n",
            "  Downloading stellargraph-1.2.1-py3-none-any.whl (435 kB)\n",
            "\u001b[K     |████████████████████████████████| 435 kB 8.6 MB/s \n",
            "\u001b[?25hRequirement already satisfied: scipy>=1.1.0 in /usr/local/lib/python3.7/dist-packages (from stellargraph) (1.5.4)\n",
            "Requirement already satisfied: matplotlib>=2.2 in /usr/local/lib/python3.7/dist-packages (from stellargraph) (3.2.2)\n",
            "Requirement already satisfied: tensorflow>=2.1.0 in /usr/local/lib/python3.7/dist-packages (from stellargraph) (2.8.2+zzzcolab20220629235552)\n",
            "Requirement already satisfied: scikit-learn>=0.20 in /usr/local/lib/python3.7/dist-packages (from stellargraph) (1.0.2)\n",
            "Requirement already satisfied: gensim>=3.4.0 in /usr/local/lib/python3.7/dist-packages (from stellargraph) (3.6.0)\n",
            "Requirement already satisfied: pandas>=0.24 in /usr/local/lib/python3.7/dist-packages (from stellargraph) (1.3.5)\n",
            "Requirement already satisfied: numpy>=1.14 in /usr/local/lib/python3.7/dist-packages (from stellargraph) (1.21.6)\n",
            "Requirement already satisfied: networkx>=2.2 in /usr/local/lib/python3.7/dist-packages (from stellargraph) (2.6.3)\n",
            "Requirement already satisfied: smart-open>=1.2.1 in /usr/local/lib/python3.7/dist-packages (from gensim>=3.4.0->stellargraph) (5.2.1)\n",
            "Requirement already satisfied: six>=1.5.0 in /usr/local/lib/python3.7/dist-packages (from gensim>=3.4.0->stellargraph) (1.15.0)\n",
            "Requirement already satisfied: kiwisolver>=1.0.1 in /usr/local/lib/python3.7/dist-packages (from matplotlib>=2.2->stellargraph) (1.4.3)\n",
            "Requirement already satisfied: python-dateutil>=2.1 in /usr/local/lib/python3.7/dist-packages (from matplotlib>=2.2->stellargraph) (2.8.2)\n",
            "Requirement already satisfied: cycler>=0.10 in /usr/local/lib/python3.7/dist-packages (from matplotlib>=2.2->stellargraph) (0.11.0)\n",
            "Requirement already satisfied: pyparsing!=2.0.4,!=2.1.2,!=2.1.6,>=2.0.1 in /usr/local/lib/python3.7/dist-packages (from matplotlib>=2.2->stellargraph) (3.0.9)\n",
            "Requirement already satisfied: typing-extensions in /usr/local/lib/python3.7/dist-packages (from kiwisolver>=1.0.1->matplotlib>=2.2->stellargraph) (4.1.1)\n",
            "Requirement already satisfied: pytz>=2017.3 in /usr/local/lib/python3.7/dist-packages (from pandas>=0.24->stellargraph) (2022.1)\n",
            "Requirement already satisfied: threadpoolctl>=2.0.0 in /usr/local/lib/python3.7/dist-packages (from scikit-learn>=0.20->stellargraph) (3.1.0)\n",
            "Requirement already satisfied: joblib>=0.11 in /usr/local/lib/python3.7/dist-packages (from scikit-learn>=0.20->stellargraph) (1.1.0)\n",
            "Requirement already satisfied: google-pasta>=0.1.1 in /usr/local/lib/python3.7/dist-packages (from tensorflow>=2.1.0->stellargraph) (0.2.0)\n",
            "Requirement already satisfied: tensorboard<2.9,>=2.8 in /usr/local/lib/python3.7/dist-packages (from tensorflow>=2.1.0->stellargraph) (2.8.0)\n",
            "Requirement already satisfied: tensorflow-io-gcs-filesystem>=0.23.1 in /usr/local/lib/python3.7/dist-packages (from tensorflow>=2.1.0->stellargraph) (0.26.0)\n",
            "Requirement already satisfied: termcolor>=1.1.0 in /usr/local/lib/python3.7/dist-packages (from tensorflow>=2.1.0->stellargraph) (1.1.0)\n",
            "Requirement already satisfied: keras<2.9,>=2.8.0rc0 in /usr/local/lib/python3.7/dist-packages (from tensorflow>=2.1.0->stellargraph) (2.8.0)\n",
            "Requirement already satisfied: keras-preprocessing>=1.1.1 in /usr/local/lib/python3.7/dist-packages (from tensorflow>=2.1.0->stellargraph) (1.1.2)\n",
            "Requirement already satisfied: gast>=0.2.1 in /usr/local/lib/python3.7/dist-packages (from tensorflow>=2.1.0->stellargraph) (0.5.3)\n",
            "Requirement already satisfied: libclang>=9.0.1 in /usr/local/lib/python3.7/dist-packages (from tensorflow>=2.1.0->stellargraph) (14.0.1)\n",
            "Requirement already satisfied: wrapt>=1.11.0 in /usr/local/lib/python3.7/dist-packages (from tensorflow>=2.1.0->stellargraph) (1.14.1)\n",
            "Requirement already satisfied: tensorflow-estimator<2.9,>=2.8 in /usr/local/lib/python3.7/dist-packages (from tensorflow>=2.1.0->stellargraph) (2.8.0)\n",
            "Requirement already satisfied: grpcio<2.0,>=1.24.3 in /usr/local/lib/python3.7/dist-packages (from tensorflow>=2.1.0->stellargraph) (1.47.0)\n",
            "Requirement already satisfied: flatbuffers>=1.12 in /usr/local/lib/python3.7/dist-packages (from tensorflow>=2.1.0->stellargraph) (2.0)\n",
            "Requirement already satisfied: h5py>=2.9.0 in /usr/local/lib/python3.7/dist-packages (from tensorflow>=2.1.0->stellargraph) (3.1.0)\n",
            "Requirement already satisfied: absl-py>=0.4.0 in /usr/local/lib/python3.7/dist-packages (from tensorflow>=2.1.0->stellargraph) (1.1.0)\n",
            "Requirement already satisfied: astunparse>=1.6.0 in /usr/local/lib/python3.7/dist-packages (from tensorflow>=2.1.0->stellargraph) (1.6.3)\n",
            "Requirement already satisfied: opt-einsum>=2.3.2 in /usr/local/lib/python3.7/dist-packages (from tensorflow>=2.1.0->stellargraph) (3.3.0)\n",
            "Requirement already satisfied: setuptools in /usr/local/lib/python3.7/dist-packages (from tensorflow>=2.1.0->stellargraph) (57.4.0)\n",
            "Requirement already satisfied: protobuf<3.20,>=3.9.2 in /usr/local/lib/python3.7/dist-packages (from tensorflow>=2.1.0->stellargraph) (3.17.3)\n",
            "Requirement already satisfied: wheel<1.0,>=0.23.0 in /usr/local/lib/python3.7/dist-packages (from astunparse>=1.6.0->tensorflow>=2.1.0->stellargraph) (0.37.1)\n",
            "Requirement already satisfied: cached-property in /usr/local/lib/python3.7/dist-packages (from h5py>=2.9.0->tensorflow>=2.1.0->stellargraph) (1.5.2)\n",
            "Requirement already satisfied: tensorboard-plugin-wit>=1.6.0 in /usr/local/lib/python3.7/dist-packages (from tensorboard<2.9,>=2.8->tensorflow>=2.1.0->stellargraph) (1.8.1)\n",
            "Requirement already satisfied: google-auth-oauthlib<0.5,>=0.4.1 in /usr/local/lib/python3.7/dist-packages (from tensorboard<2.9,>=2.8->tensorflow>=2.1.0->stellargraph) (0.4.6)\n",
            "Requirement already satisfied: requests<3,>=2.21.0 in /usr/local/lib/python3.7/dist-packages (from tensorboard<2.9,>=2.8->tensorflow>=2.1.0->stellargraph) (2.23.0)\n",
            "Requirement already satisfied: markdown>=2.6.8 in /usr/local/lib/python3.7/dist-packages (from tensorboard<2.9,>=2.8->tensorflow>=2.1.0->stellargraph) (3.3.7)\n",
            "Requirement already satisfied: werkzeug>=0.11.15 in /usr/local/lib/python3.7/dist-packages (from tensorboard<2.9,>=2.8->tensorflow>=2.1.0->stellargraph) (1.0.1)\n",
            "Requirement already satisfied: tensorboard-data-server<0.7.0,>=0.6.0 in /usr/local/lib/python3.7/dist-packages (from tensorboard<2.9,>=2.8->tensorflow>=2.1.0->stellargraph) (0.6.1)\n",
            "Requirement already satisfied: google-auth<3,>=1.6.3 in /usr/local/lib/python3.7/dist-packages (from tensorboard<2.9,>=2.8->tensorflow>=2.1.0->stellargraph) (1.35.0)\n",
            "Requirement already satisfied: cachetools<5.0,>=2.0.0 in /usr/local/lib/python3.7/dist-packages (from google-auth<3,>=1.6.3->tensorboard<2.9,>=2.8->tensorflow>=2.1.0->stellargraph) (4.2.4)\n",
            "Requirement already satisfied: pyasn1-modules>=0.2.1 in /usr/local/lib/python3.7/dist-packages (from google-auth<3,>=1.6.3->tensorboard<2.9,>=2.8->tensorflow>=2.1.0->stellargraph) (0.2.8)\n",
            "Requirement already satisfied: rsa<5,>=3.1.4 in /usr/local/lib/python3.7/dist-packages (from google-auth<3,>=1.6.3->tensorboard<2.9,>=2.8->tensorflow>=2.1.0->stellargraph) (4.8)\n",
            "Requirement already satisfied: requests-oauthlib>=0.7.0 in /usr/local/lib/python3.7/dist-packages (from google-auth-oauthlib<0.5,>=0.4.1->tensorboard<2.9,>=2.8->tensorflow>=2.1.0->stellargraph) (1.3.1)\n",
            "Requirement already satisfied: importlib-metadata>=4.4 in /usr/local/lib/python3.7/dist-packages (from markdown>=2.6.8->tensorboard<2.9,>=2.8->tensorflow>=2.1.0->stellargraph) (4.12.0)\n",
            "Requirement already satisfied: zipp>=0.5 in /usr/local/lib/python3.7/dist-packages (from importlib-metadata>=4.4->markdown>=2.6.8->tensorboard<2.9,>=2.8->tensorflow>=2.1.0->stellargraph) (3.8.0)\n",
            "Requirement already satisfied: pyasn1<0.5.0,>=0.4.6 in /usr/local/lib/python3.7/dist-packages (from pyasn1-modules>=0.2.1->google-auth<3,>=1.6.3->tensorboard<2.9,>=2.8->tensorflow>=2.1.0->stellargraph) (0.4.8)\n",
            "Requirement already satisfied: idna<3,>=2.5 in /usr/local/lib/python3.7/dist-packages (from requests<3,>=2.21.0->tensorboard<2.9,>=2.8->tensorflow>=2.1.0->stellargraph) (2.10)\n",
            "Requirement already satisfied: chardet<4,>=3.0.2 in /usr/local/lib/python3.7/dist-packages (from requests<3,>=2.21.0->tensorboard<2.9,>=2.8->tensorflow>=2.1.0->stellargraph) (3.0.4)\n",
            "Requirement already satisfied: urllib3!=1.25.0,!=1.25.1,<1.26,>=1.21.1 in /usr/local/lib/python3.7/dist-packages (from requests<3,>=2.21.0->tensorboard<2.9,>=2.8->tensorflow>=2.1.0->stellargraph) (1.24.3)\n",
            "Requirement already satisfied: certifi>=2017.4.17 in /usr/local/lib/python3.7/dist-packages (from requests<3,>=2.21.0->tensorboard<2.9,>=2.8->tensorflow>=2.1.0->stellargraph) (2022.6.15)\n",
            "Requirement already satisfied: oauthlib>=3.0.0 in /usr/local/lib/python3.7/dist-packages (from requests-oauthlib>=0.7.0->google-auth-oauthlib<0.5,>=0.4.1->tensorboard<2.9,>=2.8->tensorflow>=2.1.0->stellargraph) (3.2.0)\n",
            "Installing collected packages: stellargraph\n",
            "Successfully installed stellargraph-1.2.1\n"
          ]
        }
      ]
    }
  ]
}